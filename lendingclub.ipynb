{
 "cells": [
  {
   "cell_type": "code",
   "execution_count": 1,
   "metadata": {
    "collapsed": false
   },
   "outputs": [
    {
     "name": "stderr",
     "output_type": "stream",
     "text": [
      "/Users/richard/anaconda/lib/python2.7/site-packages/statsmodels/compat/pandas.py:56: FutureWarning: The pandas.core.datetools module is deprecated and will be removed in a future version. Please use the pandas.tseries module instead.\n",
      "  from pandas.core import datetools\n"
     ]
    }
   ],
   "source": [
    "import calendar\n",
    "import cPickle as cPickle\n",
    "import matplotlib.pyplot as plt\n",
    "import numpy as np\n",
    "import pandas as pd\n",
    "import seaborn as sns\n",
    "from sklearn.calibration import calibration_curve\n",
    "from sklearn.ensemble import ExtraTreesClassifier\n",
    "from sklearn.ensemble import ExtraTreesRegressor\n",
    "from sklearn.ensemble import RandomForestClassifier\n",
    "from sklearn.ensemble import RandomForestRegressor\n",
    "from sklearn.ensemble import VotingClassifier\n",
    "from sklearn.linear_model import LinearRegression\n",
    "from sklearn.linear_model import LogisticRegression\n",
    "from sklearn.metrics import accuracy_score\n",
    "from sklearn.metrics import confusion_matrix\n",
    "from sklearn.metrics import roc_auc_score\n",
    "from sklearn.metrics import roc_curve\n",
    "from sklearn.model_selection import GridSearchCV\n",
    "from sklearn.model_selection import KFold\n",
    "from sklearn.model_selection import train_test_split\n",
    "from sklearn.neighbors import KNeighborsClassifier as KNN\n",
    "from sklearn.neural_network import MLPClassifier\n",
    "from sklearn.neural_network import MLPRegressor\n",
    "import statsmodels.api as sm\n",
    "import xgboost\n",
    "%matplotlib inline"
   ]
  },
  {
   "cell_type": "markdown",
   "metadata": {},
   "source": [
    "# reading in data"
   ]
  },
  {
   "cell_type": "code",
   "execution_count": 2,
   "metadata": {
    "collapsed": false
   },
   "outputs": [
    {
     "name": "stderr",
     "output_type": "stream",
     "text": [
      "/Users/richard/anaconda/lib/python2.7/site-packages/IPython/core/interactiveshell.py:2717: DtypeWarning: Columns (0,47) have mixed types. Specify dtype option on import or set low_memory=False.\n",
      "  interactivity=interactivity, compiler=compiler, result=result)\n"
     ]
    },
    {
     "data": {
      "text/html": [
       "<div>\n",
       "<style scoped>\n",
       "    .dataframe tbody tr th:only-of-type {\n",
       "        vertical-align: middle;\n",
       "    }\n",
       "\n",
       "    .dataframe tbody tr th {\n",
       "        vertical-align: top;\n",
       "    }\n",
       "\n",
       "    .dataframe thead th {\n",
       "        text-align: right;\n",
       "    }\n",
       "</style>\n",
       "<table border=\"1\" class=\"dataframe\">\n",
       "  <thead>\n",
       "    <tr style=\"text-align: right;\">\n",
       "      <th></th>\n",
       "      <th>id</th>\n",
       "      <th>member_id</th>\n",
       "      <th>loan_amnt</th>\n",
       "      <th>funded_amnt</th>\n",
       "      <th>funded_amnt_inv</th>\n",
       "      <th>term</th>\n",
       "      <th>int_rate</th>\n",
       "      <th>installment</th>\n",
       "      <th>grade</th>\n",
       "      <th>sub_grade</th>\n",
       "      <th>...</th>\n",
       "      <th>hardship_payoff_balance_amount</th>\n",
       "      <th>hardship_last_payment_amount</th>\n",
       "      <th>disbursement_method</th>\n",
       "      <th>debt_settlement_flag</th>\n",
       "      <th>debt_settlement_flag_date</th>\n",
       "      <th>settlement_status</th>\n",
       "      <th>settlement_date</th>\n",
       "      <th>settlement_amount</th>\n",
       "      <th>settlement_percentage</th>\n",
       "      <th>settlement_term</th>\n",
       "    </tr>\n",
       "  </thead>\n",
       "  <tbody>\n",
       "    <tr>\n",
       "      <th>0</th>\n",
       "      <td>NaN</td>\n",
       "      <td>NaN</td>\n",
       "      <td>5000.0</td>\n",
       "      <td>5000.0</td>\n",
       "      <td>4975.0</td>\n",
       "      <td>36 months</td>\n",
       "      <td>10.65%</td>\n",
       "      <td>162.87</td>\n",
       "      <td>B</td>\n",
       "      <td>B2</td>\n",
       "      <td>...</td>\n",
       "      <td>NaN</td>\n",
       "      <td>NaN</td>\n",
       "      <td>Cash</td>\n",
       "      <td>N</td>\n",
       "      <td>NaN</td>\n",
       "      <td>NaN</td>\n",
       "      <td>NaN</td>\n",
       "      <td>NaN</td>\n",
       "      <td>NaN</td>\n",
       "      <td>NaN</td>\n",
       "    </tr>\n",
       "    <tr>\n",
       "      <th>1</th>\n",
       "      <td>NaN</td>\n",
       "      <td>NaN</td>\n",
       "      <td>2500.0</td>\n",
       "      <td>2500.0</td>\n",
       "      <td>2500.0</td>\n",
       "      <td>60 months</td>\n",
       "      <td>15.27%</td>\n",
       "      <td>59.83</td>\n",
       "      <td>C</td>\n",
       "      <td>C4</td>\n",
       "      <td>...</td>\n",
       "      <td>NaN</td>\n",
       "      <td>NaN</td>\n",
       "      <td>Cash</td>\n",
       "      <td>N</td>\n",
       "      <td>NaN</td>\n",
       "      <td>NaN</td>\n",
       "      <td>NaN</td>\n",
       "      <td>NaN</td>\n",
       "      <td>NaN</td>\n",
       "      <td>NaN</td>\n",
       "    </tr>\n",
       "    <tr>\n",
       "      <th>2</th>\n",
       "      <td>NaN</td>\n",
       "      <td>NaN</td>\n",
       "      <td>2400.0</td>\n",
       "      <td>2400.0</td>\n",
       "      <td>2400.0</td>\n",
       "      <td>36 months</td>\n",
       "      <td>15.96%</td>\n",
       "      <td>84.33</td>\n",
       "      <td>C</td>\n",
       "      <td>C5</td>\n",
       "      <td>...</td>\n",
       "      <td>NaN</td>\n",
       "      <td>NaN</td>\n",
       "      <td>Cash</td>\n",
       "      <td>N</td>\n",
       "      <td>NaN</td>\n",
       "      <td>NaN</td>\n",
       "      <td>NaN</td>\n",
       "      <td>NaN</td>\n",
       "      <td>NaN</td>\n",
       "      <td>NaN</td>\n",
       "    </tr>\n",
       "    <tr>\n",
       "      <th>3</th>\n",
       "      <td>NaN</td>\n",
       "      <td>NaN</td>\n",
       "      <td>10000.0</td>\n",
       "      <td>10000.0</td>\n",
       "      <td>10000.0</td>\n",
       "      <td>36 months</td>\n",
       "      <td>13.49%</td>\n",
       "      <td>339.31</td>\n",
       "      <td>C</td>\n",
       "      <td>C1</td>\n",
       "      <td>...</td>\n",
       "      <td>NaN</td>\n",
       "      <td>NaN</td>\n",
       "      <td>Cash</td>\n",
       "      <td>N</td>\n",
       "      <td>NaN</td>\n",
       "      <td>NaN</td>\n",
       "      <td>NaN</td>\n",
       "      <td>NaN</td>\n",
       "      <td>NaN</td>\n",
       "      <td>NaN</td>\n",
       "    </tr>\n",
       "    <tr>\n",
       "      <th>4</th>\n",
       "      <td>NaN</td>\n",
       "      <td>NaN</td>\n",
       "      <td>3000.0</td>\n",
       "      <td>3000.0</td>\n",
       "      <td>3000.0</td>\n",
       "      <td>60 months</td>\n",
       "      <td>12.69%</td>\n",
       "      <td>67.79</td>\n",
       "      <td>B</td>\n",
       "      <td>B5</td>\n",
       "      <td>...</td>\n",
       "      <td>NaN</td>\n",
       "      <td>NaN</td>\n",
       "      <td>Cash</td>\n",
       "      <td>N</td>\n",
       "      <td>NaN</td>\n",
       "      <td>NaN</td>\n",
       "      <td>NaN</td>\n",
       "      <td>NaN</td>\n",
       "      <td>NaN</td>\n",
       "      <td>NaN</td>\n",
       "    </tr>\n",
       "  </tbody>\n",
       "</table>\n",
       "<p>5 rows × 145 columns</p>\n",
       "</div>"
      ],
      "text/plain": [
       "    id  member_id  loan_amnt  funded_amnt  funded_amnt_inv        term  \\\n",
       "0  NaN        NaN     5000.0       5000.0           4975.0   36 months   \n",
       "1  NaN        NaN     2500.0       2500.0           2500.0   60 months   \n",
       "2  NaN        NaN     2400.0       2400.0           2400.0   36 months   \n",
       "3  NaN        NaN    10000.0      10000.0          10000.0   36 months   \n",
       "4  NaN        NaN     3000.0       3000.0           3000.0   60 months   \n",
       "\n",
       "  int_rate  installment grade sub_grade       ...        \\\n",
       "0   10.65%       162.87     B        B2       ...         \n",
       "1   15.27%        59.83     C        C4       ...         \n",
       "2   15.96%        84.33     C        C5       ...         \n",
       "3   13.49%       339.31     C        C1       ...         \n",
       "4   12.69%        67.79     B        B5       ...         \n",
       "\n",
       "  hardship_payoff_balance_amount hardship_last_payment_amount  \\\n",
       "0                            NaN                          NaN   \n",
       "1                            NaN                          NaN   \n",
       "2                            NaN                          NaN   \n",
       "3                            NaN                          NaN   \n",
       "4                            NaN                          NaN   \n",
       "\n",
       "  disbursement_method  debt_settlement_flag debt_settlement_flag_date  \\\n",
       "0                Cash                     N                       NaN   \n",
       "1                Cash                     N                       NaN   \n",
       "2                Cash                     N                       NaN   \n",
       "3                Cash                     N                       NaN   \n",
       "4                Cash                     N                       NaN   \n",
       "\n",
       "  settlement_status settlement_date settlement_amount  settlement_percentage  \\\n",
       "0               NaN             NaN               NaN                    NaN   \n",
       "1               NaN             NaN               NaN                    NaN   \n",
       "2               NaN             NaN               NaN                    NaN   \n",
       "3               NaN             NaN               NaN                    NaN   \n",
       "4               NaN             NaN               NaN                    NaN   \n",
       "\n",
       "  settlement_term  \n",
       "0             NaN  \n",
       "1             NaN  \n",
       "2             NaN  \n",
       "3             NaN  \n",
       "4             NaN  \n",
       "\n",
       "[5 rows x 145 columns]"
      ]
     },
     "execution_count": 2,
     "metadata": {},
     "output_type": "execute_result"
    }
   ],
   "source": [
    "df = pd.read_csv('LoanStats3a.csv', header=1)\n",
    "df.head()"
   ]
  },
  {
   "cell_type": "code",
   "execution_count": 3,
   "metadata": {
    "collapsed": false
   },
   "outputs": [
    {
     "data": {
      "text/plain": [
       "42538"
      ]
     },
     "execution_count": 3,
     "metadata": {},
     "output_type": "execute_result"
    }
   ],
   "source": [
    "len(df)"
   ]
  },
  {
   "cell_type": "code",
   "execution_count": 4,
   "metadata": {
    "collapsed": false
   },
   "outputs": [
    {
     "data": {
      "text/plain": [
       "Index([u'id', u'member_id', u'loan_amnt', u'funded_amnt', u'funded_amnt_inv',\n",
       "       u'term', u'int_rate', u'installment', u'grade', u'sub_grade',\n",
       "       ...\n",
       "       u'hardship_payoff_balance_amount', u'hardship_last_payment_amount',\n",
       "       u'disbursement_method', u'debt_settlement_flag',\n",
       "       u'debt_settlement_flag_date', u'settlement_status', u'settlement_date',\n",
       "       u'settlement_amount', u'settlement_percentage', u'settlement_term'],\n",
       "      dtype='object', length=145)"
      ]
     },
     "execution_count": 4,
     "metadata": {},
     "output_type": "execute_result"
    }
   ],
   "source": [
    "df.columns"
   ]
  },
  {
   "cell_type": "markdown",
   "metadata": {},
   "source": [
    "# cleaning data"
   ]
  },
  {
   "cell_type": "code",
   "execution_count": 5,
   "metadata": {
    "collapsed": false,
    "scrolled": true
   },
   "outputs": [
    {
     "data": {
      "text/html": [
       "<div>\n",
       "<style scoped>\n",
       "    .dataframe tbody tr th:only-of-type {\n",
       "        vertical-align: middle;\n",
       "    }\n",
       "\n",
       "    .dataframe tbody tr th {\n",
       "        vertical-align: top;\n",
       "    }\n",
       "\n",
       "    .dataframe thead th {\n",
       "        text-align: right;\n",
       "    }\n",
       "</style>\n",
       "<table border=\"1\" class=\"dataframe\">\n",
       "  <thead>\n",
       "    <tr style=\"text-align: right;\">\n",
       "      <th></th>\n",
       "      <th>loan_amnt</th>\n",
       "      <th>funded_amnt</th>\n",
       "      <th>funded_amnt_inv</th>\n",
       "      <th>term</th>\n",
       "      <th>int_rate</th>\n",
       "      <th>installment</th>\n",
       "      <th>grade</th>\n",
       "      <th>sub_grade</th>\n",
       "      <th>emp_title</th>\n",
       "      <th>emp_length</th>\n",
       "      <th>...</th>\n",
       "      <th>policy_code</th>\n",
       "      <th>application_type</th>\n",
       "      <th>acc_now_delinq</th>\n",
       "      <th>chargeoff_within_12_mths</th>\n",
       "      <th>delinq_amnt</th>\n",
       "      <th>pub_rec_bankruptcies</th>\n",
       "      <th>tax_liens</th>\n",
       "      <th>hardship_flag</th>\n",
       "      <th>disbursement_method</th>\n",
       "      <th>debt_settlement_flag</th>\n",
       "    </tr>\n",
       "  </thead>\n",
       "  <tbody>\n",
       "    <tr>\n",
       "      <th>0</th>\n",
       "      <td>5000.0</td>\n",
       "      <td>5000.0</td>\n",
       "      <td>4975.0</td>\n",
       "      <td>36 months</td>\n",
       "      <td>10.65%</td>\n",
       "      <td>162.87</td>\n",
       "      <td>B</td>\n",
       "      <td>B2</td>\n",
       "      <td>NaN</td>\n",
       "      <td>10+ years</td>\n",
       "      <td>...</td>\n",
       "      <td>1.0</td>\n",
       "      <td>Individual</td>\n",
       "      <td>0.0</td>\n",
       "      <td>0.0</td>\n",
       "      <td>0.0</td>\n",
       "      <td>0.0</td>\n",
       "      <td>0.0</td>\n",
       "      <td>N</td>\n",
       "      <td>Cash</td>\n",
       "      <td>N</td>\n",
       "    </tr>\n",
       "    <tr>\n",
       "      <th>1</th>\n",
       "      <td>2500.0</td>\n",
       "      <td>2500.0</td>\n",
       "      <td>2500.0</td>\n",
       "      <td>60 months</td>\n",
       "      <td>15.27%</td>\n",
       "      <td>59.83</td>\n",
       "      <td>C</td>\n",
       "      <td>C4</td>\n",
       "      <td>Ryder</td>\n",
       "      <td>&lt; 1 year</td>\n",
       "      <td>...</td>\n",
       "      <td>1.0</td>\n",
       "      <td>Individual</td>\n",
       "      <td>0.0</td>\n",
       "      <td>0.0</td>\n",
       "      <td>0.0</td>\n",
       "      <td>0.0</td>\n",
       "      <td>0.0</td>\n",
       "      <td>N</td>\n",
       "      <td>Cash</td>\n",
       "      <td>N</td>\n",
       "    </tr>\n",
       "    <tr>\n",
       "      <th>2</th>\n",
       "      <td>2400.0</td>\n",
       "      <td>2400.0</td>\n",
       "      <td>2400.0</td>\n",
       "      <td>36 months</td>\n",
       "      <td>15.96%</td>\n",
       "      <td>84.33</td>\n",
       "      <td>C</td>\n",
       "      <td>C5</td>\n",
       "      <td>NaN</td>\n",
       "      <td>10+ years</td>\n",
       "      <td>...</td>\n",
       "      <td>1.0</td>\n",
       "      <td>Individual</td>\n",
       "      <td>0.0</td>\n",
       "      <td>0.0</td>\n",
       "      <td>0.0</td>\n",
       "      <td>0.0</td>\n",
       "      <td>0.0</td>\n",
       "      <td>N</td>\n",
       "      <td>Cash</td>\n",
       "      <td>N</td>\n",
       "    </tr>\n",
       "    <tr>\n",
       "      <th>3</th>\n",
       "      <td>10000.0</td>\n",
       "      <td>10000.0</td>\n",
       "      <td>10000.0</td>\n",
       "      <td>36 months</td>\n",
       "      <td>13.49%</td>\n",
       "      <td>339.31</td>\n",
       "      <td>C</td>\n",
       "      <td>C1</td>\n",
       "      <td>AIR RESOURCES BOARD</td>\n",
       "      <td>10+ years</td>\n",
       "      <td>...</td>\n",
       "      <td>1.0</td>\n",
       "      <td>Individual</td>\n",
       "      <td>0.0</td>\n",
       "      <td>0.0</td>\n",
       "      <td>0.0</td>\n",
       "      <td>0.0</td>\n",
       "      <td>0.0</td>\n",
       "      <td>N</td>\n",
       "      <td>Cash</td>\n",
       "      <td>N</td>\n",
       "    </tr>\n",
       "    <tr>\n",
       "      <th>4</th>\n",
       "      <td>3000.0</td>\n",
       "      <td>3000.0</td>\n",
       "      <td>3000.0</td>\n",
       "      <td>60 months</td>\n",
       "      <td>12.69%</td>\n",
       "      <td>67.79</td>\n",
       "      <td>B</td>\n",
       "      <td>B5</td>\n",
       "      <td>University Medical Group</td>\n",
       "      <td>1 year</td>\n",
       "      <td>...</td>\n",
       "      <td>1.0</td>\n",
       "      <td>Individual</td>\n",
       "      <td>0.0</td>\n",
       "      <td>0.0</td>\n",
       "      <td>0.0</td>\n",
       "      <td>0.0</td>\n",
       "      <td>0.0</td>\n",
       "      <td>N</td>\n",
       "      <td>Cash</td>\n",
       "      <td>N</td>\n",
       "    </tr>\n",
       "  </tbody>\n",
       "</table>\n",
       "<p>5 rows × 53 columns</p>\n",
       "</div>"
      ],
      "text/plain": [
       "   loan_amnt  funded_amnt  funded_amnt_inv        term int_rate  installment  \\\n",
       "0     5000.0       5000.0           4975.0   36 months   10.65%       162.87   \n",
       "1     2500.0       2500.0           2500.0   60 months   15.27%        59.83   \n",
       "2     2400.0       2400.0           2400.0   36 months   15.96%        84.33   \n",
       "3    10000.0      10000.0          10000.0   36 months   13.49%       339.31   \n",
       "4     3000.0       3000.0           3000.0   60 months   12.69%        67.79   \n",
       "\n",
       "  grade sub_grade                 emp_title emp_length         ...           \\\n",
       "0     B        B2                       NaN  10+ years         ...            \n",
       "1     C        C4                     Ryder   < 1 year         ...            \n",
       "2     C        C5                       NaN  10+ years         ...            \n",
       "3     C        C1       AIR RESOURCES BOARD  10+ years         ...            \n",
       "4     B        B5  University Medical Group     1 year         ...            \n",
       "\n",
       "  policy_code  application_type acc_now_delinq chargeoff_within_12_mths  \\\n",
       "0         1.0        Individual            0.0                      0.0   \n",
       "1         1.0        Individual            0.0                      0.0   \n",
       "2         1.0        Individual            0.0                      0.0   \n",
       "3         1.0        Individual            0.0                      0.0   \n",
       "4         1.0        Individual            0.0                      0.0   \n",
       "\n",
       "  delinq_amnt pub_rec_bankruptcies tax_liens hardship_flag  \\\n",
       "0         0.0                  0.0       0.0             N   \n",
       "1         0.0                  0.0       0.0             N   \n",
       "2         0.0                  0.0       0.0             N   \n",
       "3         0.0                  0.0       0.0             N   \n",
       "4         0.0                  0.0       0.0             N   \n",
       "\n",
       "  disbursement_method debt_settlement_flag  \n",
       "0                Cash                    N  \n",
       "1                Cash                    N  \n",
       "2                Cash                    N  \n",
       "3                Cash                    N  \n",
       "4                Cash                    N  \n",
       "\n",
       "[5 rows x 53 columns]"
      ]
     },
     "execution_count": 5,
     "metadata": {},
     "output_type": "execute_result"
    }
   ],
   "source": [
    "# drop rows and columns with a lot of missing data\n",
    "df = df.loc[df.index, df.count(0) > df.shape[0] * 0.9] # drop columns with more than 10% empty data\n",
    "df = df.dropna(axis=0, how='all')\n",
    "df.head()"
   ]
  },
  {
   "cell_type": "code",
   "execution_count": 6,
   "metadata": {
    "collapsed": false,
    "scrolled": true
   },
   "outputs": [
    {
     "data": {
      "text/plain": [
       "(42535, 53)"
      ]
     },
     "execution_count": 6,
     "metadata": {},
     "output_type": "execute_result"
    }
   ],
   "source": [
    "df.shape"
   ]
  },
  {
   "cell_type": "markdown",
   "metadata": {},
   "source": [
    "## dropping columns that can't or won't be used"
   ]
  },
  {
   "cell_type": "code",
   "execution_count": 7,
   "metadata": {
    "collapsed": false,
    "scrolled": false
   },
   "outputs": [
    {
     "data": {
      "text/html": [
       "<div>\n",
       "<style scoped>\n",
       "    .dataframe tbody tr th:only-of-type {\n",
       "        vertical-align: middle;\n",
       "    }\n",
       "\n",
       "    .dataframe tbody tr th {\n",
       "        vertical-align: top;\n",
       "    }\n",
       "\n",
       "    .dataframe thead th {\n",
       "        text-align: right;\n",
       "    }\n",
       "</style>\n",
       "<table border=\"1\" class=\"dataframe\">\n",
       "  <thead>\n",
       "    <tr style=\"text-align: right;\">\n",
       "      <th></th>\n",
       "      <th>funded_amnt</th>\n",
       "      <th>term</th>\n",
       "      <th>int_rate</th>\n",
       "      <th>installment</th>\n",
       "      <th>grade</th>\n",
       "      <th>sub_grade</th>\n",
       "      <th>emp_length</th>\n",
       "      <th>home_ownership</th>\n",
       "      <th>annual_inc</th>\n",
       "      <th>verification_status</th>\n",
       "      <th>...</th>\n",
       "      <th>delinq_2yrs</th>\n",
       "      <th>earliest_cr_line</th>\n",
       "      <th>inq_last_6mths</th>\n",
       "      <th>open_acc</th>\n",
       "      <th>pub_rec</th>\n",
       "      <th>revol_bal</th>\n",
       "      <th>revol_util</th>\n",
       "      <th>total_acc</th>\n",
       "      <th>pub_rec_bankruptcies</th>\n",
       "      <th>tax_liens</th>\n",
       "    </tr>\n",
       "  </thead>\n",
       "  <tbody>\n",
       "    <tr>\n",
       "      <th>0</th>\n",
       "      <td>5000.0</td>\n",
       "      <td>36 months</td>\n",
       "      <td>10.65%</td>\n",
       "      <td>162.87</td>\n",
       "      <td>B</td>\n",
       "      <td>B2</td>\n",
       "      <td>10+ years</td>\n",
       "      <td>RENT</td>\n",
       "      <td>24000.0</td>\n",
       "      <td>Verified</td>\n",
       "      <td>...</td>\n",
       "      <td>0.0</td>\n",
       "      <td>Jan-1985</td>\n",
       "      <td>1.0</td>\n",
       "      <td>3.0</td>\n",
       "      <td>0.0</td>\n",
       "      <td>13648.0</td>\n",
       "      <td>83.7%</td>\n",
       "      <td>9.0</td>\n",
       "      <td>0.0</td>\n",
       "      <td>0.0</td>\n",
       "    </tr>\n",
       "    <tr>\n",
       "      <th>1</th>\n",
       "      <td>2500.0</td>\n",
       "      <td>60 months</td>\n",
       "      <td>15.27%</td>\n",
       "      <td>59.83</td>\n",
       "      <td>C</td>\n",
       "      <td>C4</td>\n",
       "      <td>&lt; 1 year</td>\n",
       "      <td>RENT</td>\n",
       "      <td>30000.0</td>\n",
       "      <td>Source Verified</td>\n",
       "      <td>...</td>\n",
       "      <td>0.0</td>\n",
       "      <td>Apr-1999</td>\n",
       "      <td>5.0</td>\n",
       "      <td>3.0</td>\n",
       "      <td>0.0</td>\n",
       "      <td>1687.0</td>\n",
       "      <td>9.4%</td>\n",
       "      <td>4.0</td>\n",
       "      <td>0.0</td>\n",
       "      <td>0.0</td>\n",
       "    </tr>\n",
       "    <tr>\n",
       "      <th>2</th>\n",
       "      <td>2400.0</td>\n",
       "      <td>36 months</td>\n",
       "      <td>15.96%</td>\n",
       "      <td>84.33</td>\n",
       "      <td>C</td>\n",
       "      <td>C5</td>\n",
       "      <td>10+ years</td>\n",
       "      <td>RENT</td>\n",
       "      <td>12252.0</td>\n",
       "      <td>Not Verified</td>\n",
       "      <td>...</td>\n",
       "      <td>0.0</td>\n",
       "      <td>Nov-2001</td>\n",
       "      <td>2.0</td>\n",
       "      <td>2.0</td>\n",
       "      <td>0.0</td>\n",
       "      <td>2956.0</td>\n",
       "      <td>98.5%</td>\n",
       "      <td>10.0</td>\n",
       "      <td>0.0</td>\n",
       "      <td>0.0</td>\n",
       "    </tr>\n",
       "    <tr>\n",
       "      <th>3</th>\n",
       "      <td>10000.0</td>\n",
       "      <td>36 months</td>\n",
       "      <td>13.49%</td>\n",
       "      <td>339.31</td>\n",
       "      <td>C</td>\n",
       "      <td>C1</td>\n",
       "      <td>10+ years</td>\n",
       "      <td>RENT</td>\n",
       "      <td>49200.0</td>\n",
       "      <td>Source Verified</td>\n",
       "      <td>...</td>\n",
       "      <td>0.0</td>\n",
       "      <td>Feb-1996</td>\n",
       "      <td>1.0</td>\n",
       "      <td>10.0</td>\n",
       "      <td>0.0</td>\n",
       "      <td>5598.0</td>\n",
       "      <td>21%</td>\n",
       "      <td>37.0</td>\n",
       "      <td>0.0</td>\n",
       "      <td>0.0</td>\n",
       "    </tr>\n",
       "    <tr>\n",
       "      <th>4</th>\n",
       "      <td>3000.0</td>\n",
       "      <td>60 months</td>\n",
       "      <td>12.69%</td>\n",
       "      <td>67.79</td>\n",
       "      <td>B</td>\n",
       "      <td>B5</td>\n",
       "      <td>1 year</td>\n",
       "      <td>RENT</td>\n",
       "      <td>80000.0</td>\n",
       "      <td>Source Verified</td>\n",
       "      <td>...</td>\n",
       "      <td>0.0</td>\n",
       "      <td>Jan-1996</td>\n",
       "      <td>0.0</td>\n",
       "      <td>15.0</td>\n",
       "      <td>0.0</td>\n",
       "      <td>27783.0</td>\n",
       "      <td>53.9%</td>\n",
       "      <td>38.0</td>\n",
       "      <td>0.0</td>\n",
       "      <td>0.0</td>\n",
       "    </tr>\n",
       "  </tbody>\n",
       "</table>\n",
       "<p>5 rows × 25 columns</p>\n",
       "</div>"
      ],
      "text/plain": [
       "   funded_amnt        term int_rate  installment grade sub_grade emp_length  \\\n",
       "0       5000.0   36 months   10.65%       162.87     B        B2  10+ years   \n",
       "1       2500.0   60 months   15.27%        59.83     C        C4   < 1 year   \n",
       "2       2400.0   36 months   15.96%        84.33     C        C5  10+ years   \n",
       "3      10000.0   36 months   13.49%       339.31     C        C1  10+ years   \n",
       "4       3000.0   60 months   12.69%        67.79     B        B5     1 year   \n",
       "\n",
       "  home_ownership  annual_inc verification_status    ...     delinq_2yrs  \\\n",
       "0           RENT     24000.0            Verified    ...             0.0   \n",
       "1           RENT     30000.0     Source Verified    ...             0.0   \n",
       "2           RENT     12252.0        Not Verified    ...             0.0   \n",
       "3           RENT     49200.0     Source Verified    ...             0.0   \n",
       "4           RENT     80000.0     Source Verified    ...             0.0   \n",
       "\n",
       "  earliest_cr_line inq_last_6mths open_acc  pub_rec  revol_bal revol_util  \\\n",
       "0         Jan-1985            1.0      3.0      0.0    13648.0      83.7%   \n",
       "1         Apr-1999            5.0      3.0      0.0     1687.0       9.4%   \n",
       "2         Nov-2001            2.0      2.0      0.0     2956.0      98.5%   \n",
       "3         Feb-1996            1.0     10.0      0.0     5598.0        21%   \n",
       "4         Jan-1996            0.0     15.0      0.0    27783.0      53.9%   \n",
       "\n",
       "   total_acc  pub_rec_bankruptcies  tax_liens  \n",
       "0        9.0                   0.0        0.0  \n",
       "1        4.0                   0.0        0.0  \n",
       "2       10.0                   0.0        0.0  \n",
       "3       37.0                   0.0        0.0  \n",
       "4       38.0                   0.0        0.0  \n",
       "\n",
       "[5 rows x 25 columns]"
      ]
     },
     "execution_count": 7,
     "metadata": {},
     "output_type": "execute_result"
    }
   ],
   "source": [
    "nunique = df.apply(pd.Series.nunique) \n",
    "df = df.drop(nunique[nunique == 1].index, axis=1) # drop columns with only one unique value\n",
    "df = df.drop(['total_pymnt', 'total_pymnt_inv', 'total_rec_prncp', # these are recorded after the loan, so drop\n",
    "              'total_rec_int', 'total_rec_late_fee', 'recoveries', \n",
    "              'collection_recovery_fee', 'last_pymnt_d', 'last_pymnt_amnt', \n",
    "              'last_credit_pull_d', 'acc_now_delinq', 'delinq_amnt', 'debt_settlement_flag'], axis=1)\n",
    "\n",
    "df = df.drop(['emp_title', 'title', 'zip_code', 'funded_amnt_inv', 'loan_amnt'], \n",
    "             axis=1) # drop employer, reason for loan, user's loan title, zip code\n",
    "\n",
    "df = df.loc[df.count(1) > df.shape[1] * 0.7, df.columns] # drop rows with more than 30% empty data\n",
    "\n",
    "df.head()"
   ]
  },
  {
   "cell_type": "code",
   "execution_count": null,
   "metadata": {
    "collapsed": true
   },
   "outputs": [],
   "source": []
  },
  {
   "cell_type": "markdown",
   "metadata": {},
   "source": [
    "## cleaning remaining columns"
   ]
  },
  {
   "cell_type": "code",
   "execution_count": 8,
   "metadata": {
    "collapsed": false
   },
   "outputs": [
    {
     "data": {
      "text/html": [
       "<div>\n",
       "<style scoped>\n",
       "    .dataframe tbody tr th:only-of-type {\n",
       "        vertical-align: middle;\n",
       "    }\n",
       "\n",
       "    .dataframe tbody tr th {\n",
       "        vertical-align: top;\n",
       "    }\n",
       "\n",
       "    .dataframe thead th {\n",
       "        text-align: right;\n",
       "    }\n",
       "</style>\n",
       "<table border=\"1\" class=\"dataframe\">\n",
       "  <thead>\n",
       "    <tr style=\"text-align: right;\">\n",
       "      <th></th>\n",
       "      <th>funded_amnt</th>\n",
       "      <th>term</th>\n",
       "      <th>int_rate</th>\n",
       "      <th>installment</th>\n",
       "      <th>grade</th>\n",
       "      <th>sub_grade</th>\n",
       "      <th>emp_length</th>\n",
       "      <th>home_ownership</th>\n",
       "      <th>annual_inc</th>\n",
       "      <th>verification_status</th>\n",
       "      <th>...</th>\n",
       "      <th>delinq_2yrs</th>\n",
       "      <th>earliest_cr_line</th>\n",
       "      <th>inq_last_6mths</th>\n",
       "      <th>open_acc</th>\n",
       "      <th>pub_rec</th>\n",
       "      <th>revol_bal</th>\n",
       "      <th>revol_util</th>\n",
       "      <th>total_acc</th>\n",
       "      <th>pub_rec_bankruptcies</th>\n",
       "      <th>tax_liens</th>\n",
       "    </tr>\n",
       "  </thead>\n",
       "  <tbody>\n",
       "    <tr>\n",
       "      <th>0</th>\n",
       "      <td>5000.0</td>\n",
       "      <td>36</td>\n",
       "      <td>10.65</td>\n",
       "      <td>162.87</td>\n",
       "      <td>B</td>\n",
       "      <td>B2</td>\n",
       "      <td>10+ years</td>\n",
       "      <td>RENT</td>\n",
       "      <td>24000.0</td>\n",
       "      <td>Verified</td>\n",
       "      <td>...</td>\n",
       "      <td>0.0</td>\n",
       "      <td>Jan-1985</td>\n",
       "      <td>1.0</td>\n",
       "      <td>3.0</td>\n",
       "      <td>0.0</td>\n",
       "      <td>13648.0</td>\n",
       "      <td>83.7</td>\n",
       "      <td>9.0</td>\n",
       "      <td>0.0</td>\n",
       "      <td>0.0</td>\n",
       "    </tr>\n",
       "    <tr>\n",
       "      <th>1</th>\n",
       "      <td>2500.0</td>\n",
       "      <td>60</td>\n",
       "      <td>15.27</td>\n",
       "      <td>59.83</td>\n",
       "      <td>C</td>\n",
       "      <td>C4</td>\n",
       "      <td>&lt; 1 year</td>\n",
       "      <td>RENT</td>\n",
       "      <td>30000.0</td>\n",
       "      <td>Source Verified</td>\n",
       "      <td>...</td>\n",
       "      <td>0.0</td>\n",
       "      <td>Apr-1999</td>\n",
       "      <td>5.0</td>\n",
       "      <td>3.0</td>\n",
       "      <td>0.0</td>\n",
       "      <td>1687.0</td>\n",
       "      <td>9.4</td>\n",
       "      <td>4.0</td>\n",
       "      <td>0.0</td>\n",
       "      <td>0.0</td>\n",
       "    </tr>\n",
       "    <tr>\n",
       "      <th>2</th>\n",
       "      <td>2400.0</td>\n",
       "      <td>36</td>\n",
       "      <td>15.96</td>\n",
       "      <td>84.33</td>\n",
       "      <td>C</td>\n",
       "      <td>C5</td>\n",
       "      <td>10+ years</td>\n",
       "      <td>RENT</td>\n",
       "      <td>12252.0</td>\n",
       "      <td>Not Verified</td>\n",
       "      <td>...</td>\n",
       "      <td>0.0</td>\n",
       "      <td>Nov-2001</td>\n",
       "      <td>2.0</td>\n",
       "      <td>2.0</td>\n",
       "      <td>0.0</td>\n",
       "      <td>2956.0</td>\n",
       "      <td>98.5</td>\n",
       "      <td>10.0</td>\n",
       "      <td>0.0</td>\n",
       "      <td>0.0</td>\n",
       "    </tr>\n",
       "    <tr>\n",
       "      <th>3</th>\n",
       "      <td>10000.0</td>\n",
       "      <td>36</td>\n",
       "      <td>13.49</td>\n",
       "      <td>339.31</td>\n",
       "      <td>C</td>\n",
       "      <td>C1</td>\n",
       "      <td>10+ years</td>\n",
       "      <td>RENT</td>\n",
       "      <td>49200.0</td>\n",
       "      <td>Source Verified</td>\n",
       "      <td>...</td>\n",
       "      <td>0.0</td>\n",
       "      <td>Feb-1996</td>\n",
       "      <td>1.0</td>\n",
       "      <td>10.0</td>\n",
       "      <td>0.0</td>\n",
       "      <td>5598.0</td>\n",
       "      <td>21.0</td>\n",
       "      <td>37.0</td>\n",
       "      <td>0.0</td>\n",
       "      <td>0.0</td>\n",
       "    </tr>\n",
       "    <tr>\n",
       "      <th>4</th>\n",
       "      <td>3000.0</td>\n",
       "      <td>60</td>\n",
       "      <td>12.69</td>\n",
       "      <td>67.79</td>\n",
       "      <td>B</td>\n",
       "      <td>B5</td>\n",
       "      <td>1 year</td>\n",
       "      <td>RENT</td>\n",
       "      <td>80000.0</td>\n",
       "      <td>Source Verified</td>\n",
       "      <td>...</td>\n",
       "      <td>0.0</td>\n",
       "      <td>Jan-1996</td>\n",
       "      <td>0.0</td>\n",
       "      <td>15.0</td>\n",
       "      <td>0.0</td>\n",
       "      <td>27783.0</td>\n",
       "      <td>53.9</td>\n",
       "      <td>38.0</td>\n",
       "      <td>0.0</td>\n",
       "      <td>0.0</td>\n",
       "    </tr>\n",
       "  </tbody>\n",
       "</table>\n",
       "<p>5 rows × 25 columns</p>\n",
       "</div>"
      ],
      "text/plain": [
       "   funded_amnt  term  int_rate  installment grade sub_grade emp_length  \\\n",
       "0       5000.0    36     10.65       162.87     B        B2  10+ years   \n",
       "1       2500.0    60     15.27        59.83     C        C4   < 1 year   \n",
       "2       2400.0    36     15.96        84.33     C        C5  10+ years   \n",
       "3      10000.0    36     13.49       339.31     C        C1  10+ years   \n",
       "4       3000.0    60     12.69        67.79     B        B5     1 year   \n",
       "\n",
       "  home_ownership  annual_inc verification_status    ...     delinq_2yrs  \\\n",
       "0           RENT     24000.0            Verified    ...             0.0   \n",
       "1           RENT     30000.0     Source Verified    ...             0.0   \n",
       "2           RENT     12252.0        Not Verified    ...             0.0   \n",
       "3           RENT     49200.0     Source Verified    ...             0.0   \n",
       "4           RENT     80000.0     Source Verified    ...             0.0   \n",
       "\n",
       "  earliest_cr_line inq_last_6mths open_acc  pub_rec  revol_bal revol_util  \\\n",
       "0         Jan-1985            1.0      3.0      0.0    13648.0       83.7   \n",
       "1         Apr-1999            5.0      3.0      0.0     1687.0        9.4   \n",
       "2         Nov-2001            2.0      2.0      0.0     2956.0       98.5   \n",
       "3         Feb-1996            1.0     10.0      0.0     5598.0       21.0   \n",
       "4         Jan-1996            0.0     15.0      0.0    27783.0       53.9   \n",
       "\n",
       "   total_acc  pub_rec_bankruptcies  tax_liens  \n",
       "0        9.0                   0.0        0.0  \n",
       "1        4.0                   0.0        0.0  \n",
       "2       10.0                   0.0        0.0  \n",
       "3       37.0                   0.0        0.0  \n",
       "4       38.0                   0.0        0.0  \n",
       "\n",
       "[5 rows x 25 columns]"
      ]
     },
     "execution_count": 8,
     "metadata": {},
     "output_type": "execute_result"
    }
   ],
   "source": [
    "df.term = df.term.str[:-7].astype(int) # drop \"months\" from term\n",
    "df.int_rate = df.int_rate.str[:-1].astype(float) # drop percent sign from term\n",
    "df.revol_util = df.revol_util.str[:-1].astype(float) # drop percent sign from term\n",
    "df.loan_status = df.loan_status.str.replace('Does not meet the credit policy. Status:', \n",
    "                                            '') # drop unnecessary info from loan status\n",
    "df.head()"
   ]
  },
  {
   "cell_type": "code",
   "execution_count": 9,
   "metadata": {
    "collapsed": false
   },
   "outputs": [],
   "source": [
    "for var in ['revol_util', 'total_acc', 'pub_rec_bankruptcies', 'tax_liens']:\n",
    "    df[var] = df[var].replace(np.nan, 0)"
   ]
  },
  {
   "cell_type": "code",
   "execution_count": 10,
   "metadata": {
    "collapsed": false
   },
   "outputs": [
    {
     "data": {
      "text/plain": [
       "(42506, 25)"
      ]
     },
     "execution_count": 10,
     "metadata": {},
     "output_type": "execute_result"
    }
   ],
   "source": [
    "df.shape"
   ]
  },
  {
   "cell_type": "code",
   "execution_count": 11,
   "metadata": {
    "collapsed": false
   },
   "outputs": [
    {
     "data": {
      "text/plain": [
       "Index([u'funded_amnt', u'term', u'int_rate', u'installment', u'grade',\n",
       "       u'sub_grade', u'emp_length', u'home_ownership', u'annual_inc',\n",
       "       u'verification_status', u'issue_d', u'loan_status', u'purpose',\n",
       "       u'addr_state', u'dti', u'delinq_2yrs', u'earliest_cr_line',\n",
       "       u'inq_last_6mths', u'open_acc', u'pub_rec', u'revol_bal', u'revol_util',\n",
       "       u'total_acc', u'pub_rec_bankruptcies', u'tax_liens'],\n",
       "      dtype='object')"
      ]
     },
     "execution_count": 11,
     "metadata": {},
     "output_type": "execute_result"
    }
   ],
   "source": [
    "df.columns"
   ]
  },
  {
   "cell_type": "markdown",
   "metadata": {},
   "source": [
    "### convert some variables to numerical\n",
    "#### ['grade', 'sub_grade', 'emp_length', 'issue_d', 'earliest_cr_line']"
   ]
  },
  {
   "cell_type": "code",
   "execution_count": 12,
   "metadata": {
    "collapsed": true
   },
   "outputs": [],
   "source": [
    "# convert grade and subgrade to numerical values\n",
    "df.grade = df.grade.apply(ord) - 64\n",
    "df.sub_grade = df.grade + df.sub_grade.str[1].apply(int) / 10."
   ]
  },
  {
   "cell_type": "code",
   "execution_count": 13,
   "metadata": {
    "collapsed": false
   },
   "outputs": [
    {
     "data": {
      "text/plain": [
       "array(['10+ years', '< 1 year', '1 year', '3 years', '8 years', '9 years',\n",
       "       '4 years', '5 years', '6 years', '2 years', '7 years', nan], dtype=object)"
      ]
     },
     "execution_count": 13,
     "metadata": {},
     "output_type": "execute_result"
    }
   ],
   "source": [
    "df.emp_length.unique()"
   ]
  },
  {
   "cell_type": "code",
   "execution_count": 14,
   "metadata": {
    "collapsed": false
   },
   "outputs": [],
   "source": [
    "df['has_employment'] = df.emp_length.notnull().astype(int)\n",
    "df.emp_length = df.emp_length.replace('n/a', '0')\n",
    "df.emp_length = df.emp_length.replace(np.nan, '0')\n",
    "df.emp_length = df.emp_length.replace('\\+? ?years?', '', regex=True)\n",
    "df.emp_length = df.emp_length.replace('< 1', '0')\n",
    "df.emp_length = pd.to_numeric(df.emp_length)"
   ]
  },
  {
   "cell_type": "code",
   "execution_count": 15,
   "metadata": {
    "collapsed": false
   },
   "outputs": [],
   "source": [
    "months = {v: k for k,v in enumerate(calendar.month_abbr)}\n",
    "def get_month_number(abbr):\n",
    "    return months[abbr]"
   ]
  },
  {
   "cell_type": "code",
   "execution_count": 16,
   "metadata": {
    "collapsed": false
   },
   "outputs": [],
   "source": [
    "df['issue_month'] = df.issue_d.str[:3].apply(get_month_number) # convert issue date to numerical values\n",
    "df['issue_year'] = df.issue_d.str[-2:].astype(int)\n",
    "df = df.drop(['issue_d'], axis=1)"
   ]
  },
  {
   "cell_type": "code",
   "execution_count": 17,
   "metadata": {
    "collapsed": false
   },
   "outputs": [],
   "source": [
    "df['earliest_cr_line_month'] = df.earliest_cr_line.str[:3].apply(get_month_number) # convert issue date to numerical values\n",
    "df['earliest_cr_line_year'] = df.earliest_cr_line.str[-4:].astype(int)\n",
    "df = df.drop(['earliest_cr_line'], axis=1)"
   ]
  },
  {
   "cell_type": "code",
   "execution_count": null,
   "metadata": {
    "collapsed": true
   },
   "outputs": [],
   "source": []
  },
  {
   "cell_type": "markdown",
   "metadata": {},
   "source": [
    "## add dummies"
   ]
  },
  {
   "cell_type": "code",
   "execution_count": 18,
   "metadata": {
    "collapsed": false
   },
   "outputs": [],
   "source": [
    "for var in ['home_ownership', 'purpose', 'verification_status']:#, 'addr_state']: # dummies\n",
    "    dummies = pd.get_dummies(df[var], prefix=var, drop_first=True)\n",
    "    df = pd.concat([df, dummies], axis=1)\n",
    "    df = df.drop([var], axis=1)"
   ]
  },
  {
   "cell_type": "code",
   "execution_count": 19,
   "metadata": {
    "collapsed": true
   },
   "outputs": [],
   "source": [
    "df = df.drop(['addr_state'], axis=1)"
   ]
  },
  {
   "cell_type": "code",
   "execution_count": 20,
   "metadata": {
    "collapsed": false,
    "scrolled": false
   },
   "outputs": [
    {
     "data": {
      "text/html": [
       "<div>\n",
       "<style scoped>\n",
       "    .dataframe tbody tr th:only-of-type {\n",
       "        vertical-align: middle;\n",
       "    }\n",
       "\n",
       "    .dataframe tbody tr th {\n",
       "        vertical-align: top;\n",
       "    }\n",
       "\n",
       "    .dataframe thead th {\n",
       "        text-align: right;\n",
       "    }\n",
       "</style>\n",
       "<table border=\"1\" class=\"dataframe\">\n",
       "  <thead>\n",
       "    <tr style=\"text-align: right;\">\n",
       "      <th></th>\n",
       "      <th>funded_amnt</th>\n",
       "      <th>term</th>\n",
       "      <th>int_rate</th>\n",
       "      <th>installment</th>\n",
       "      <th>grade</th>\n",
       "      <th>sub_grade</th>\n",
       "      <th>emp_length</th>\n",
       "      <th>annual_inc</th>\n",
       "      <th>loan_status</th>\n",
       "      <th>dti</th>\n",
       "      <th>...</th>\n",
       "      <th>purpose_major_purchase</th>\n",
       "      <th>purpose_medical</th>\n",
       "      <th>purpose_moving</th>\n",
       "      <th>purpose_other</th>\n",
       "      <th>purpose_renewable_energy</th>\n",
       "      <th>purpose_small_business</th>\n",
       "      <th>purpose_vacation</th>\n",
       "      <th>purpose_wedding</th>\n",
       "      <th>verification_status_Source Verified</th>\n",
       "      <th>verification_status_Verified</th>\n",
       "    </tr>\n",
       "  </thead>\n",
       "  <tbody>\n",
       "    <tr>\n",
       "      <th>0</th>\n",
       "      <td>5000.0</td>\n",
       "      <td>36</td>\n",
       "      <td>10.65</td>\n",
       "      <td>162.87</td>\n",
       "      <td>2</td>\n",
       "      <td>2.2</td>\n",
       "      <td>10</td>\n",
       "      <td>24000.0</td>\n",
       "      <td>Fully Paid</td>\n",
       "      <td>27.65</td>\n",
       "      <td>...</td>\n",
       "      <td>0</td>\n",
       "      <td>0</td>\n",
       "      <td>0</td>\n",
       "      <td>0</td>\n",
       "      <td>0</td>\n",
       "      <td>0</td>\n",
       "      <td>0</td>\n",
       "      <td>0</td>\n",
       "      <td>0</td>\n",
       "      <td>1</td>\n",
       "    </tr>\n",
       "    <tr>\n",
       "      <th>1</th>\n",
       "      <td>2500.0</td>\n",
       "      <td>60</td>\n",
       "      <td>15.27</td>\n",
       "      <td>59.83</td>\n",
       "      <td>3</td>\n",
       "      <td>3.4</td>\n",
       "      <td>0</td>\n",
       "      <td>30000.0</td>\n",
       "      <td>Charged Off</td>\n",
       "      <td>1.00</td>\n",
       "      <td>...</td>\n",
       "      <td>0</td>\n",
       "      <td>0</td>\n",
       "      <td>0</td>\n",
       "      <td>0</td>\n",
       "      <td>0</td>\n",
       "      <td>0</td>\n",
       "      <td>0</td>\n",
       "      <td>0</td>\n",
       "      <td>1</td>\n",
       "      <td>0</td>\n",
       "    </tr>\n",
       "    <tr>\n",
       "      <th>2</th>\n",
       "      <td>2400.0</td>\n",
       "      <td>36</td>\n",
       "      <td>15.96</td>\n",
       "      <td>84.33</td>\n",
       "      <td>3</td>\n",
       "      <td>3.5</td>\n",
       "      <td>10</td>\n",
       "      <td>12252.0</td>\n",
       "      <td>Fully Paid</td>\n",
       "      <td>8.72</td>\n",
       "      <td>...</td>\n",
       "      <td>0</td>\n",
       "      <td>0</td>\n",
       "      <td>0</td>\n",
       "      <td>0</td>\n",
       "      <td>0</td>\n",
       "      <td>1</td>\n",
       "      <td>0</td>\n",
       "      <td>0</td>\n",
       "      <td>0</td>\n",
       "      <td>0</td>\n",
       "    </tr>\n",
       "    <tr>\n",
       "      <th>3</th>\n",
       "      <td>10000.0</td>\n",
       "      <td>36</td>\n",
       "      <td>13.49</td>\n",
       "      <td>339.31</td>\n",
       "      <td>3</td>\n",
       "      <td>3.1</td>\n",
       "      <td>10</td>\n",
       "      <td>49200.0</td>\n",
       "      <td>Fully Paid</td>\n",
       "      <td>20.00</td>\n",
       "      <td>...</td>\n",
       "      <td>0</td>\n",
       "      <td>0</td>\n",
       "      <td>0</td>\n",
       "      <td>1</td>\n",
       "      <td>0</td>\n",
       "      <td>0</td>\n",
       "      <td>0</td>\n",
       "      <td>0</td>\n",
       "      <td>1</td>\n",
       "      <td>0</td>\n",
       "    </tr>\n",
       "    <tr>\n",
       "      <th>4</th>\n",
       "      <td>3000.0</td>\n",
       "      <td>60</td>\n",
       "      <td>12.69</td>\n",
       "      <td>67.79</td>\n",
       "      <td>2</td>\n",
       "      <td>2.5</td>\n",
       "      <td>1</td>\n",
       "      <td>80000.0</td>\n",
       "      <td>Fully Paid</td>\n",
       "      <td>17.94</td>\n",
       "      <td>...</td>\n",
       "      <td>0</td>\n",
       "      <td>0</td>\n",
       "      <td>0</td>\n",
       "      <td>1</td>\n",
       "      <td>0</td>\n",
       "      <td>0</td>\n",
       "      <td>0</td>\n",
       "      <td>0</td>\n",
       "      <td>1</td>\n",
       "      <td>0</td>\n",
       "    </tr>\n",
       "  </tbody>\n",
       "</table>\n",
       "<p>5 rows × 43 columns</p>\n",
       "</div>"
      ],
      "text/plain": [
       "   funded_amnt  term  int_rate  installment  grade  sub_grade  emp_length  \\\n",
       "0       5000.0    36     10.65       162.87      2        2.2          10   \n",
       "1       2500.0    60     15.27        59.83      3        3.4           0   \n",
       "2       2400.0    36     15.96        84.33      3        3.5          10   \n",
       "3      10000.0    36     13.49       339.31      3        3.1          10   \n",
       "4       3000.0    60     12.69        67.79      2        2.5           1   \n",
       "\n",
       "   annual_inc  loan_status    dti              ...               \\\n",
       "0     24000.0   Fully Paid  27.65              ...                \n",
       "1     30000.0  Charged Off   1.00              ...                \n",
       "2     12252.0   Fully Paid   8.72              ...                \n",
       "3     49200.0   Fully Paid  20.00              ...                \n",
       "4     80000.0   Fully Paid  17.94              ...                \n",
       "\n",
       "   purpose_major_purchase  purpose_medical  purpose_moving  purpose_other  \\\n",
       "0                       0                0               0              0   \n",
       "1                       0                0               0              0   \n",
       "2                       0                0               0              0   \n",
       "3                       0                0               0              1   \n",
       "4                       0                0               0              1   \n",
       "\n",
       "   purpose_renewable_energy  purpose_small_business  purpose_vacation  \\\n",
       "0                         0                       0                 0   \n",
       "1                         0                       0                 0   \n",
       "2                         0                       1                 0   \n",
       "3                         0                       0                 0   \n",
       "4                         0                       0                 0   \n",
       "\n",
       "   purpose_wedding  verification_status_Source Verified  \\\n",
       "0                0                                    0   \n",
       "1                0                                    1   \n",
       "2                0                                    0   \n",
       "3                0                                    1   \n",
       "4                0                                    1   \n",
       "\n",
       "   verification_status_Verified  \n",
       "0                             1  \n",
       "1                             0  \n",
       "2                             0  \n",
       "3                             0  \n",
       "4                             0  \n",
       "\n",
       "[5 rows x 43 columns]"
      ]
     },
     "execution_count": 20,
     "metadata": {},
     "output_type": "execute_result"
    }
   ],
   "source": [
    "df.head()"
   ]
  },
  {
   "cell_type": "code",
   "execution_count": 21,
   "metadata": {
    "collapsed": true
   },
   "outputs": [],
   "source": [
    "df.to_csv('LoanStats3a_cleaned.csv')"
   ]
  },
  {
   "cell_type": "markdown",
   "metadata": {},
   "source": [
    "# read in clean data"
   ]
  },
  {
   "cell_type": "code",
   "execution_count": 22,
   "metadata": {
    "collapsed": false
   },
   "outputs": [
    {
     "data": {
      "text/html": [
       "<div>\n",
       "<style scoped>\n",
       "    .dataframe tbody tr th:only-of-type {\n",
       "        vertical-align: middle;\n",
       "    }\n",
       "\n",
       "    .dataframe tbody tr th {\n",
       "        vertical-align: top;\n",
       "    }\n",
       "\n",
       "    .dataframe thead th {\n",
       "        text-align: right;\n",
       "    }\n",
       "</style>\n",
       "<table border=\"1\" class=\"dataframe\">\n",
       "  <thead>\n",
       "    <tr style=\"text-align: right;\">\n",
       "      <th></th>\n",
       "      <th>funded_amnt</th>\n",
       "      <th>term</th>\n",
       "      <th>int_rate</th>\n",
       "      <th>installment</th>\n",
       "      <th>grade</th>\n",
       "      <th>sub_grade</th>\n",
       "      <th>emp_length</th>\n",
       "      <th>annual_inc</th>\n",
       "      <th>loan_status</th>\n",
       "      <th>dti</th>\n",
       "      <th>...</th>\n",
       "      <th>purpose_major_purchase</th>\n",
       "      <th>purpose_medical</th>\n",
       "      <th>purpose_moving</th>\n",
       "      <th>purpose_other</th>\n",
       "      <th>purpose_renewable_energy</th>\n",
       "      <th>purpose_small_business</th>\n",
       "      <th>purpose_vacation</th>\n",
       "      <th>purpose_wedding</th>\n",
       "      <th>verification_status_Source Verified</th>\n",
       "      <th>verification_status_Verified</th>\n",
       "    </tr>\n",
       "  </thead>\n",
       "  <tbody>\n",
       "    <tr>\n",
       "      <th>0</th>\n",
       "      <td>5000.0</td>\n",
       "      <td>36</td>\n",
       "      <td>10.65</td>\n",
       "      <td>162.87</td>\n",
       "      <td>2</td>\n",
       "      <td>2.2</td>\n",
       "      <td>10</td>\n",
       "      <td>24000.0</td>\n",
       "      <td>Fully Paid</td>\n",
       "      <td>27.65</td>\n",
       "      <td>...</td>\n",
       "      <td>0</td>\n",
       "      <td>0</td>\n",
       "      <td>0</td>\n",
       "      <td>0</td>\n",
       "      <td>0</td>\n",
       "      <td>0</td>\n",
       "      <td>0</td>\n",
       "      <td>0</td>\n",
       "      <td>0</td>\n",
       "      <td>1</td>\n",
       "    </tr>\n",
       "    <tr>\n",
       "      <th>1</th>\n",
       "      <td>2500.0</td>\n",
       "      <td>60</td>\n",
       "      <td>15.27</td>\n",
       "      <td>59.83</td>\n",
       "      <td>3</td>\n",
       "      <td>3.4</td>\n",
       "      <td>0</td>\n",
       "      <td>30000.0</td>\n",
       "      <td>Charged Off</td>\n",
       "      <td>1.00</td>\n",
       "      <td>...</td>\n",
       "      <td>0</td>\n",
       "      <td>0</td>\n",
       "      <td>0</td>\n",
       "      <td>0</td>\n",
       "      <td>0</td>\n",
       "      <td>0</td>\n",
       "      <td>0</td>\n",
       "      <td>0</td>\n",
       "      <td>1</td>\n",
       "      <td>0</td>\n",
       "    </tr>\n",
       "    <tr>\n",
       "      <th>2</th>\n",
       "      <td>2400.0</td>\n",
       "      <td>36</td>\n",
       "      <td>15.96</td>\n",
       "      <td>84.33</td>\n",
       "      <td>3</td>\n",
       "      <td>3.5</td>\n",
       "      <td>10</td>\n",
       "      <td>12252.0</td>\n",
       "      <td>Fully Paid</td>\n",
       "      <td>8.72</td>\n",
       "      <td>...</td>\n",
       "      <td>0</td>\n",
       "      <td>0</td>\n",
       "      <td>0</td>\n",
       "      <td>0</td>\n",
       "      <td>0</td>\n",
       "      <td>1</td>\n",
       "      <td>0</td>\n",
       "      <td>0</td>\n",
       "      <td>0</td>\n",
       "      <td>0</td>\n",
       "    </tr>\n",
       "    <tr>\n",
       "      <th>3</th>\n",
       "      <td>10000.0</td>\n",
       "      <td>36</td>\n",
       "      <td>13.49</td>\n",
       "      <td>339.31</td>\n",
       "      <td>3</td>\n",
       "      <td>3.1</td>\n",
       "      <td>10</td>\n",
       "      <td>49200.0</td>\n",
       "      <td>Fully Paid</td>\n",
       "      <td>20.00</td>\n",
       "      <td>...</td>\n",
       "      <td>0</td>\n",
       "      <td>0</td>\n",
       "      <td>0</td>\n",
       "      <td>1</td>\n",
       "      <td>0</td>\n",
       "      <td>0</td>\n",
       "      <td>0</td>\n",
       "      <td>0</td>\n",
       "      <td>1</td>\n",
       "      <td>0</td>\n",
       "    </tr>\n",
       "    <tr>\n",
       "      <th>4</th>\n",
       "      <td>3000.0</td>\n",
       "      <td>60</td>\n",
       "      <td>12.69</td>\n",
       "      <td>67.79</td>\n",
       "      <td>2</td>\n",
       "      <td>2.5</td>\n",
       "      <td>1</td>\n",
       "      <td>80000.0</td>\n",
       "      <td>Fully Paid</td>\n",
       "      <td>17.94</td>\n",
       "      <td>...</td>\n",
       "      <td>0</td>\n",
       "      <td>0</td>\n",
       "      <td>0</td>\n",
       "      <td>1</td>\n",
       "      <td>0</td>\n",
       "      <td>0</td>\n",
       "      <td>0</td>\n",
       "      <td>0</td>\n",
       "      <td>1</td>\n",
       "      <td>0</td>\n",
       "    </tr>\n",
       "  </tbody>\n",
       "</table>\n",
       "<p>5 rows × 43 columns</p>\n",
       "</div>"
      ],
      "text/plain": [
       "   funded_amnt  term  int_rate  installment  grade  sub_grade  emp_length  \\\n",
       "0       5000.0    36     10.65       162.87      2        2.2          10   \n",
       "1       2500.0    60     15.27        59.83      3        3.4           0   \n",
       "2       2400.0    36     15.96        84.33      3        3.5          10   \n",
       "3      10000.0    36     13.49       339.31      3        3.1          10   \n",
       "4       3000.0    60     12.69        67.79      2        2.5           1   \n",
       "\n",
       "   annual_inc  loan_status    dti              ...               \\\n",
       "0     24000.0   Fully Paid  27.65              ...                \n",
       "1     30000.0  Charged Off   1.00              ...                \n",
       "2     12252.0   Fully Paid   8.72              ...                \n",
       "3     49200.0   Fully Paid  20.00              ...                \n",
       "4     80000.0   Fully Paid  17.94              ...                \n",
       "\n",
       "   purpose_major_purchase  purpose_medical  purpose_moving  purpose_other  \\\n",
       "0                       0                0               0              0   \n",
       "1                       0                0               0              0   \n",
       "2                       0                0               0              0   \n",
       "3                       0                0               0              1   \n",
       "4                       0                0               0              1   \n",
       "\n",
       "   purpose_renewable_energy  purpose_small_business  purpose_vacation  \\\n",
       "0                         0                       0                 0   \n",
       "1                         0                       0                 0   \n",
       "2                         0                       1                 0   \n",
       "3                         0                       0                 0   \n",
       "4                         0                       0                 0   \n",
       "\n",
       "   purpose_wedding  verification_status_Source Verified  \\\n",
       "0                0                                    0   \n",
       "1                0                                    1   \n",
       "2                0                                    0   \n",
       "3                0                                    1   \n",
       "4                0                                    1   \n",
       "\n",
       "   verification_status_Verified  \n",
       "0                             1  \n",
       "1                             0  \n",
       "2                             0  \n",
       "3                             0  \n",
       "4                             0  \n",
       "\n",
       "[5 rows x 43 columns]"
      ]
     },
     "execution_count": 22,
     "metadata": {},
     "output_type": "execute_result"
    }
   ],
   "source": [
    "df = pd.read_csv('LoanStats3a_cleaned.csv', index_col=0)\n",
    "df.head()"
   ]
  },
  {
   "cell_type": "markdown",
   "metadata": {},
   "source": [
    "# splitting into X, Y, train, test"
   ]
  },
  {
   "cell_type": "code",
   "execution_count": 23,
   "metadata": {
    "collapsed": false
   },
   "outputs": [],
   "source": [
    "# output\n",
    "Y = df['loan_status'] == 'Fully Paid'\n",
    "# input\n",
    "X = df.drop(['loan_status'], axis=1)"
   ]
  },
  {
   "cell_type": "code",
   "execution_count": 24,
   "metadata": {
    "collapsed": true
   },
   "outputs": [],
   "source": [
    "# Split data into training and validation\n",
    "X_train, X_val, Y_train, Y_val = train_test_split(X, Y, test_size=0.3)"
   ]
  },
  {
   "cell_type": "markdown",
   "metadata": {},
   "source": [
    "# classification evaluation metrics"
   ]
  },
  {
   "cell_type": "code",
   "execution_count": 25,
   "metadata": {
    "collapsed": true
   },
   "outputs": [],
   "source": [
    "def calculate_roc_curve(Y_true, Y_prob, label='ROC curve'):    \n",
    "    fpr, tpr, _ = roc_curve(Y_true, Y_prob)\n",
    "    plt.plot(fpr, tpr, label=label)\n",
    "    plt.plot([0, 1], [0, 1], 'k--')\n",
    "    plt.xlim([0.0, 1.0])\n",
    "    plt.ylim([0.0, 1.0])\n",
    "    plt.xlabel('1 - Specificity')\n",
    "    plt.ylabel('Sensitivity')\n",
    "    plt.title('ROC curve')\n",
    "    plt.legend(loc=\"lower right\")\n",
    "\n",
    "def calculate_confusion_matrix(Y_true, Y_pred):    \n",
    "    cm=confusion_matrix(Y_true, Y_pred)\n",
    "    print(cm)\n",
    "    \n",
    "def log_likelihood(Y_true, Y_prob):\n",
    "    return np.mean((1 - Y_true) * np.log(1 - Y_prob) + Y_true * np.log(Y_prob))\n",
    "\n",
    "def brier_score(Y_true, Y_prob):\n",
    "    return np.mean(np.square(Y_true - Y_prob))\n",
    "\n",
    "def calculate_calibration_curve(Y_true, Y_prob, n_bins=10, label='calibration curve'):\n",
    "    y, x = calibration_curve(Y_true, Y_prob, n_bins=n_bins)\n",
    "    plt.plot(x, y, 's-', label=label)\n",
    "    plt.plot([0, 1], [0, 1], 'k--')\n",
    "    plt.xlim([0.0, 1.0])\n",
    "    plt.ylim([0.0, 1.0])\n",
    "    plt.xlabel('predicted probability')\n",
    "    plt.ylabel('fraction of positives')\n",
    "    plt.title('Calibration Curve')\n",
    "    plt.legend(loc='lower right')\n",
    "\n",
    "def calculate_prob_hist(Y_prob, label='probability histogram'):\n",
    "    plt.hist(Y_prob, bins=10, range=(0, 1), density=True, histtype=\"step\", label=label, lw=2)\n",
    "    plt.xlabel('predicted probability')\n",
    "    plt.ylabel('frequency')\n",
    "    plt.title('Probability Histogram')\n",
    "    plt.legend(loc='upper left')"
   ]
  },
  {
   "cell_type": "markdown",
   "metadata": {},
   "source": [
    "# Classification"
   ]
  },
  {
   "cell_type": "code",
   "execution_count": 26,
   "metadata": {
    "collapsed": false,
    "scrolled": true
   },
   "outputs": [
    {
     "data": {
      "text/plain": [
       "0.84959222082810537"
      ]
     },
     "execution_count": 26,
     "metadata": {},
     "output_type": "execute_result"
    }
   ],
   "source": [
    "# Logistic Regression Classifier\n",
    "logistic = LogisticRegression()\n",
    "logistic.fit(X_train, Y_train)\n",
    "logistic_preds = logistic.predict(X_val)\n",
    "logistic_score = logistic.score(X_val, Y_val)\n",
    "logistic_score"
   ]
  },
  {
   "cell_type": "code",
   "execution_count": 27,
   "metadata": {
    "collapsed": false
   },
   "outputs": [
    {
     "data": {
      "text/plain": [
       "funded_amnt                            True\n",
       "term                                   True\n",
       "int_rate                               True\n",
       "installment                            True\n",
       "grade                                  True\n",
       "sub_grade                              True\n",
       "emp_length                             True\n",
       "annual_inc                             True\n",
       "dti                                    True\n",
       "delinq_2yrs                            True\n",
       "inq_last_6mths                         True\n",
       "open_acc                               True\n",
       "pub_rec                                True\n",
       "revol_bal                              True\n",
       "revol_util                             True\n",
       "total_acc                              True\n",
       "pub_rec_bankruptcies                   True\n",
       "tax_liens                              True\n",
       "has_employment                         True\n",
       "issue_month                            True\n",
       "issue_year                             True\n",
       "earliest_cr_line_month                 True\n",
       "earliest_cr_line_year                  True\n",
       "home_ownership_NONE                    True\n",
       "home_ownership_OTHER                   True\n",
       "home_ownership_OWN                     True\n",
       "home_ownership_RENT                    True\n",
       "purpose_credit_card                    True\n",
       "purpose_debt_consolidation             True\n",
       "purpose_educational                    True\n",
       "purpose_home_improvement               True\n",
       "purpose_house                          True\n",
       "purpose_major_purchase                 True\n",
       "purpose_medical                        True\n",
       "purpose_moving                         True\n",
       "purpose_other                          True\n",
       "purpose_renewable_energy               True\n",
       "purpose_small_business                 True\n",
       "purpose_vacation                       True\n",
       "purpose_wedding                        True\n",
       "verification_status_Source Verified    True\n",
       "verification_status_Verified           True\n",
       "dtype: bool"
      ]
     },
     "execution_count": 27,
     "metadata": {},
     "output_type": "execute_result"
    }
   ],
   "source": [
    "np.isfinite(X).all()"
   ]
  },
  {
   "cell_type": "code",
   "execution_count": 28,
   "metadata": {
    "collapsed": false,
    "scrolled": true
   },
   "outputs": [
    {
     "name": "stdout",
     "output_type": "stream",
     "text": [
      "0.674051894105\n"
     ]
    },
    {
     "data": {
      "text/plain": [
       "array([[    1,  1918],\n",
       "       [    0, 10833]])"
      ]
     },
     "execution_count": 28,
     "metadata": {},
     "output_type": "execute_result"
    },
    {
     "data": {
      "image/png": "[encoded data removed]",
      "text/plain": [
       "<matplotlib.figure.Figure at 0x1086ef310>"
      ]
     },
     "metadata": {},
     "output_type": "display_data"
    }
   ],
   "source": [
    "logistic_probs = logistic.predict_proba(X_val)[:,1]\n",
    "calculate_roc_curve(Y_val, logistic_probs, 2)\n",
    "print roc_auc_score(Y_val, logistic_probs)\n",
    "\n",
    "confusion_matrix(Y_val, logistic_preds)"
   ]
  },
  {
   "cell_type": "code",
   "execution_count": 29,
   "metadata": {
    "collapsed": true
   },
   "outputs": [],
   "source": [
    "# workaround\n",
    "from scipy import stats\n",
    "stats.chisqprob = lambda chisq, df: stats.chi2.sf(chisq, df)"
   ]
  },
  {
   "cell_type": "code",
   "execution_count": 30,
   "metadata": {
    "collapsed": false,
    "scrolled": true
   },
   "outputs": [
    {
     "name": "stdout",
     "output_type": "stream",
     "text": [
      "Optimization terminated successfully.\n",
      "         Current function value: 0.392688\n",
      "         Iterations 14\n"
     ]
    },
    {
     "data": {
      "text/html": [
       "<table class=\"simpletable\">\n",
       "<caption>Logit Regression Results</caption>\n",
       "<tr>\n",
       "  <th>Dep. Variable:</th>    <td>loan_status</td>   <th>  No. Observations:  </th>  <td> 29754</td> \n",
       "</tr>\n",
       "<tr>\n",
       "  <th>Model:</th>               <td>Logit</td>      <th>  Df Residuals:      </th>  <td> 29712</td> \n",
       "</tr>\n",
       "<tr>\n",
       "  <th>Method:</th>               <td>MLE</td>       <th>  Df Model:          </th>  <td>    41</td> \n",
       "</tr>\n",
       "<tr>\n",
       "  <th>Date:</th>          <td>Mon, 05 Mar 2018</td> <th>  Pseudo R-squ.:     </th>  <td>0.07684</td>\n",
       "</tr>\n",
       "<tr>\n",
       "  <th>Time:</th>              <td>17:04:30</td>     <th>  Log-Likelihood:    </th> <td> -11684.</td>\n",
       "</tr>\n",
       "<tr>\n",
       "  <th>converged:</th>           <td>True</td>       <th>  LL-Null:           </th> <td> -12657.</td>\n",
       "</tr>\n",
       "<tr>\n",
       "  <th> </th>                      <td> </td>        <th>  LLR p-value:       </th>  <td> 0.000</td> \n",
       "</tr>\n",
       "</table>\n",
       "<table class=\"simpletable\">\n",
       "<tr>\n",
       "                   <td></td>                      <th>coef</th>     <th>std err</th>      <th>z</th>      <th>P>|z|</th>  <th>[0.025</th>    <th>0.975]</th>  \n",
       "</tr>\n",
       "<tr>\n",
       "  <th>funded_amnt</th>                         <td> 2.834e-06</td> <td> 1.51e-05</td> <td>    0.187</td> <td> 0.851</td> <td>-2.68e-05</td> <td> 3.25e-05</td>\n",
       "</tr>\n",
       "<tr>\n",
       "  <th>term</th>                                <td>   -0.0197</td> <td>    0.003</td> <td>   -5.976</td> <td> 0.000</td> <td>   -0.026</td> <td>   -0.013</td>\n",
       "</tr>\n",
       "<tr>\n",
       "  <th>int_rate</th>                            <td>   -0.1249</td> <td>    0.017</td> <td>   -7.246</td> <td> 0.000</td> <td>   -0.159</td> <td>   -0.091</td>\n",
       "</tr>\n",
       "<tr>\n",
       "  <th>installment</th>                         <td>   -0.0001</td> <td>    0.001</td> <td>   -0.210</td> <td> 0.834</td> <td>   -0.001</td> <td>    0.001</td>\n",
       "</tr>\n",
       "<tr>\n",
       "  <th>grade</th>                               <td>   -0.0388</td> <td>    0.124</td> <td>   -0.313</td> <td> 0.755</td> <td>   -0.282</td> <td>    0.205</td>\n",
       "</tr>\n",
       "<tr>\n",
       "  <th>sub_grade</th>                           <td>    0.0699</td> <td>    0.140</td> <td>    0.498</td> <td> 0.618</td> <td>   -0.205</td> <td>    0.345</td>\n",
       "</tr>\n",
       "<tr>\n",
       "  <th>emp_length</th>                          <td>   -0.0181</td> <td>    0.005</td> <td>   -3.556</td> <td> 0.000</td> <td>   -0.028</td> <td>   -0.008</td>\n",
       "</tr>\n",
       "<tr>\n",
       "  <th>annual_inc</th>                          <td> 5.634e-06</td> <td> 5.86e-07</td> <td>    9.612</td> <td> 0.000</td> <td> 4.49e-06</td> <td> 6.78e-06</td>\n",
       "</tr>\n",
       "<tr>\n",
       "  <th>dti</th>                                 <td>   -0.0032</td> <td>    0.003</td> <td>   -1.086</td> <td> 0.277</td> <td>   -0.009</td> <td>    0.003</td>\n",
       "</tr>\n",
       "<tr>\n",
       "  <th>delinq_2yrs</th>                         <td>   -0.0244</td> <td>    0.031</td> <td>   -0.783</td> <td> 0.434</td> <td>   -0.085</td> <td>    0.037</td>\n",
       "</tr>\n",
       "<tr>\n",
       "  <th>inq_last_6mths</th>                      <td>   -0.1246</td> <td>    0.010</td> <td>  -12.103</td> <td> 0.000</td> <td>   -0.145</td> <td>   -0.104</td>\n",
       "</tr>\n",
       "<tr>\n",
       "  <th>open_acc</th>                            <td>   -0.0019</td> <td>    0.005</td> <td>   -0.360</td> <td> 0.719</td> <td>   -0.012</td> <td>    0.009</td>\n",
       "</tr>\n",
       "<tr>\n",
       "  <th>pub_rec</th>                             <td>   -0.0816</td> <td>    0.110</td> <td>   -0.745</td> <td> 0.456</td> <td>   -0.296</td> <td>    0.133</td>\n",
       "</tr>\n",
       "<tr>\n",
       "  <th>revol_bal</th>                           <td>-3.274e-06</td> <td> 8.55e-07</td> <td>   -3.828</td> <td> 0.000</td> <td>-4.95e-06</td> <td> -1.6e-06</td>\n",
       "</tr>\n",
       "<tr>\n",
       "  <th>revol_util</th>                          <td>   -0.0033</td> <td>    0.001</td> <td>   -4.403</td> <td> 0.000</td> <td>   -0.005</td> <td>   -0.002</td>\n",
       "</tr>\n",
       "<tr>\n",
       "  <th>total_acc</th>                           <td>    0.0023</td> <td>    0.002</td> <td>    1.024</td> <td> 0.306</td> <td>   -0.002</td> <td>    0.007</td>\n",
       "</tr>\n",
       "<tr>\n",
       "  <th>pub_rec_bankruptcies</th>                <td>   -0.2214</td> <td>    0.128</td> <td>   -1.729</td> <td> 0.084</td> <td>   -0.472</td> <td>    0.030</td>\n",
       "</tr>\n",
       "<tr>\n",
       "  <th>tax_liens</th>                           <td>   33.9921</td> <td> 3.36e+07</td> <td> 1.01e-06</td> <td> 1.000</td> <td>-6.58e+07</td> <td> 6.58e+07</td>\n",
       "</tr>\n",
       "<tr>\n",
       "  <th>has_employment</th>                      <td>    0.7062</td> <td>    0.099</td> <td>    7.132</td> <td> 0.000</td> <td>    0.512</td> <td>    0.900</td>\n",
       "</tr>\n",
       "<tr>\n",
       "  <th>issue_month</th>                         <td>    0.0070</td> <td>    0.005</td> <td>    1.346</td> <td> 0.178</td> <td>   -0.003</td> <td>    0.017</td>\n",
       "</tr>\n",
       "<tr>\n",
       "  <th>issue_year</th>                          <td>    0.1210</td> <td>    0.023</td> <td>    5.299</td> <td> 0.000</td> <td>    0.076</td> <td>    0.166</td>\n",
       "</tr>\n",
       "<tr>\n",
       "  <th>earliest_cr_line_month</th>              <td>    0.0164</td> <td>    0.005</td> <td>    3.456</td> <td> 0.001</td> <td>    0.007</td> <td>    0.026</td>\n",
       "</tr>\n",
       "<tr>\n",
       "  <th>earliest_cr_line_year</th>               <td>    0.0012</td> <td>    0.000</td> <td>    8.200</td> <td> 0.000</td> <td>    0.001</td> <td>    0.001</td>\n",
       "</tr>\n",
       "<tr>\n",
       "  <th>home_ownership_NONE</th>                 <td>   -1.0669</td> <td>    1.285</td> <td>   -0.830</td> <td> 0.406</td> <td>   -3.586</td> <td>    1.452</td>\n",
       "</tr>\n",
       "<tr>\n",
       "  <th>home_ownership_OTHER</th>                <td>   -0.3742</td> <td>    0.258</td> <td>   -1.451</td> <td> 0.147</td> <td>   -0.880</td> <td>    0.131</td>\n",
       "</tr>\n",
       "<tr>\n",
       "  <th>home_ownership_OWN</th>                  <td>    0.0350</td> <td>    0.069</td> <td>    0.510</td> <td> 0.610</td> <td>   -0.100</td> <td>    0.170</td>\n",
       "</tr>\n",
       "<tr>\n",
       "  <th>home_ownership_RENT</th>                 <td>   -0.0675</td> <td>    0.040</td> <td>   -1.687</td> <td> 0.092</td> <td>   -0.146</td> <td>    0.011</td>\n",
       "</tr>\n",
       "<tr>\n",
       "  <th>purpose_credit_card</th>                 <td>    0.1635</td> <td>    0.111</td> <td>    1.476</td> <td> 0.140</td> <td>   -0.054</td> <td>    0.381</td>\n",
       "</tr>\n",
       "<tr>\n",
       "  <th>purpose_debt_consolidation</th>          <td>   -0.1065</td> <td>    0.100</td> <td>   -1.063</td> <td> 0.288</td> <td>   -0.303</td> <td>    0.090</td>\n",
       "</tr>\n",
       "<tr>\n",
       "  <th>purpose_educational</th>                 <td>   -0.4183</td> <td>    0.180</td> <td>   -2.319</td> <td> 0.020</td> <td>   -0.772</td> <td>   -0.065</td>\n",
       "</tr>\n",
       "<tr>\n",
       "  <th>purpose_home_improvement</th>            <td>   -0.1267</td> <td>    0.116</td> <td>   -1.090</td> <td> 0.276</td> <td>   -0.355</td> <td>    0.101</td>\n",
       "</tr>\n",
       "<tr>\n",
       "  <th>purpose_house</th>                       <td>   -0.3044</td> <td>    0.185</td> <td>   -1.641</td> <td> 0.101</td> <td>   -0.668</td> <td>    0.059</td>\n",
       "</tr>\n",
       "<tr>\n",
       "  <th>purpose_major_purchase</th>              <td>    0.0911</td> <td>    0.126</td> <td>    0.724</td> <td> 0.469</td> <td>   -0.155</td> <td>    0.337</td>\n",
       "</tr>\n",
       "<tr>\n",
       "  <th>purpose_medical</th>                     <td>   -0.4138</td> <td>    0.152</td> <td>   -2.722</td> <td> 0.006</td> <td>   -0.712</td> <td>   -0.116</td>\n",
       "</tr>\n",
       "<tr>\n",
       "  <th>purpose_moving</th>                      <td>   -0.4292</td> <td>    0.160</td> <td>   -2.687</td> <td> 0.007</td> <td>   -0.742</td> <td>   -0.116</td>\n",
       "</tr>\n",
       "<tr>\n",
       "  <th>purpose_other</th>                       <td>   -0.2915</td> <td>    0.108</td> <td>   -2.703</td> <td> 0.007</td> <td>   -0.503</td> <td>   -0.080</td>\n",
       "</tr>\n",
       "<tr>\n",
       "  <th>purpose_renewable_energy</th>            <td>   -0.3099</td> <td>    0.374</td> <td>   -0.828</td> <td> 0.407</td> <td>   -1.043</td> <td>    0.423</td>\n",
       "</tr>\n",
       "<tr>\n",
       "  <th>purpose_small_business</th>              <td>   -0.8460</td> <td>    0.116</td> <td>   -7.315</td> <td> 0.000</td> <td>   -1.073</td> <td>   -0.619</td>\n",
       "</tr>\n",
       "<tr>\n",
       "  <th>purpose_vacation</th>                    <td>   -0.3548</td> <td>    0.197</td> <td>   -1.799</td> <td> 0.072</td> <td>   -0.741</td> <td>    0.032</td>\n",
       "</tr>\n",
       "<tr>\n",
       "  <th>purpose_wedding</th>                     <td>    0.1293</td> <td>    0.158</td> <td>    0.818</td> <td> 0.413</td> <td>   -0.180</td> <td>    0.439</td>\n",
       "</tr>\n",
       "<tr>\n",
       "  <th>verification_status_Source Verified</th> <td>   -0.0435</td> <td>    0.046</td> <td>   -0.940</td> <td> 0.347</td> <td>   -0.134</td> <td>    0.047</td>\n",
       "</tr>\n",
       "<tr>\n",
       "  <th>verification_status_Verified</th>        <td>    0.0279</td> <td>    0.045</td> <td>    0.622</td> <td> 0.534</td> <td>   -0.060</td> <td>    0.116</td>\n",
       "</tr>\n",
       "</table>"
      ],
      "text/plain": [
       "<class 'statsmodels.iolib.summary.Summary'>\n",
       "\"\"\"\n",
       "                           Logit Regression Results                           \n",
       "==============================================================================\n",
       "Dep. Variable:            loan_status   No. Observations:                29754\n",
       "Model:                          Logit   Df Residuals:                    29712\n",
       "Method:                           MLE   Df Model:                           41\n",
       "Date:                Mon, 05 Mar 2018   Pseudo R-squ.:                 0.07684\n",
       "Time:                        17:04:30   Log-Likelihood:                -11684.\n",
       "converged:                       True   LL-Null:                       -12657.\n",
       "                                        LLR p-value:                     0.000\n",
       "=======================================================================================================\n",
       "                                          coef    std err          z      P>|z|      [0.025      0.975]\n",
       "-------------------------------------------------------------------------------------------------------\n",
       "funded_amnt                          2.834e-06   1.51e-05      0.187      0.851   -2.68e-05    3.25e-05\n",
       "term                                   -0.0197      0.003     -5.976      0.000      -0.026      -0.013\n",
       "int_rate                               -0.1249      0.017     -7.246      0.000      -0.159      -0.091\n",
       "installment                            -0.0001      0.001     -0.210      0.834      -0.001       0.001\n",
       "grade                                  -0.0388      0.124     -0.313      0.755      -0.282       0.205\n",
       "sub_grade                               0.0699      0.140      0.498      0.618      -0.205       0.345\n",
       "emp_length                             -0.0181      0.005     -3.556      0.000      -0.028      -0.008\n",
       "annual_inc                           5.634e-06   5.86e-07      9.612      0.000    4.49e-06    6.78e-06\n",
       "dti                                    -0.0032      0.003     -1.086      0.277      -0.009       0.003\n",
       "delinq_2yrs                            -0.0244      0.031     -0.783      0.434      -0.085       0.037\n",
       "inq_last_6mths                         -0.1246      0.010    -12.103      0.000      -0.145      -0.104\n",
       "open_acc                               -0.0019      0.005     -0.360      0.719      -0.012       0.009\n",
       "pub_rec                                -0.0816      0.110     -0.745      0.456      -0.296       0.133\n",
       "revol_bal                           -3.274e-06   8.55e-07     -3.828      0.000   -4.95e-06    -1.6e-06\n",
       "revol_util                             -0.0033      0.001     -4.403      0.000      -0.005      -0.002\n",
       "total_acc                               0.0023      0.002      1.024      0.306      -0.002       0.007\n",
       "pub_rec_bankruptcies                   -0.2214      0.128     -1.729      0.084      -0.472       0.030\n",
       "tax_liens                              33.9921   3.36e+07   1.01e-06      1.000   -6.58e+07    6.58e+07\n",
       "has_employment                          0.7062      0.099      7.132      0.000       0.512       0.900\n",
       "issue_month                             0.0070      0.005      1.346      0.178      -0.003       0.017\n",
       "issue_year                              0.1210      0.023      5.299      0.000       0.076       0.166\n",
       "earliest_cr_line_month                  0.0164      0.005      3.456      0.001       0.007       0.026\n",
       "earliest_cr_line_year                   0.0012      0.000      8.200      0.000       0.001       0.001\n",
       "home_ownership_NONE                    -1.0669      1.285     -0.830      0.406      -3.586       1.452\n",
       "home_ownership_OTHER                   -0.3742      0.258     -1.451      0.147      -0.880       0.131\n",
       "home_ownership_OWN                      0.0350      0.069      0.510      0.610      -0.100       0.170\n",
       "home_ownership_RENT                    -0.0675      0.040     -1.687      0.092      -0.146       0.011\n",
       "purpose_credit_card                     0.1635      0.111      1.476      0.140      -0.054       0.381\n",
       "purpose_debt_consolidation             -0.1065      0.100     -1.063      0.288      -0.303       0.090\n",
       "purpose_educational                    -0.4183      0.180     -2.319      0.020      -0.772      -0.065\n",
       "purpose_home_improvement               -0.1267      0.116     -1.090      0.276      -0.355       0.101\n",
       "purpose_house                          -0.3044      0.185     -1.641      0.101      -0.668       0.059\n",
       "purpose_major_purchase                  0.0911      0.126      0.724      0.469      -0.155       0.337\n",
       "purpose_medical                        -0.4138      0.152     -2.722      0.006      -0.712      -0.116\n",
       "purpose_moving                         -0.4292      0.160     -2.687      0.007      -0.742      -0.116\n",
       "purpose_other                          -0.2915      0.108     -2.703      0.007      -0.503      -0.080\n",
       "purpose_renewable_energy               -0.3099      0.374     -0.828      0.407      -1.043       0.423\n",
       "purpose_small_business                 -0.8460      0.116     -7.315      0.000      -1.073      -0.619\n",
       "purpose_vacation                       -0.3548      0.197     -1.799      0.072      -0.741       0.032\n",
       "purpose_wedding                         0.1293      0.158      0.818      0.413      -0.180       0.439\n",
       "verification_status_Source Verified    -0.0435      0.046     -0.940      0.347      -0.134       0.047\n",
       "verification_status_Verified            0.0279      0.045      0.622      0.534      -0.060       0.116\n",
       "=======================================================================================================\n",
       "\"\"\""
      ]
     },
     "execution_count": 30,
     "metadata": {},
     "output_type": "execute_result"
    }
   ],
   "source": [
    "# statsmodels for feature extraction\n",
    "import statsmodels.api as sm\n",
    "# from statsmodels.formula.api import logit\n",
    "logit = sm.Logit(Y_train, X_train)\n",
    "model = logit.fit()\n",
    "model.summary()"
   ]
  },
  {
   "cell_type": "code",
   "execution_count": 31,
   "metadata": {
    "collapsed": true
   },
   "outputs": [],
   "source": [
    "with open('logistic_output.tex', 'w') as f:\n",
    "    f.write(model.summary().as_latex())"
   ]
  },
  {
   "cell_type": "code",
   "execution_count": 32,
   "metadata": {
    "collapsed": false
   },
   "outputs": [
    {
     "data": {
      "text/plain": [
       "0.84990589711417819"
      ]
     },
     "execution_count": 32,
     "metadata": {},
     "output_type": "execute_result"
    }
   ],
   "source": [
    "# Random Forest Classifier\n",
    "rf = RandomForestClassifier(n_estimators=1000, n_jobs=-1)\n",
    "rf.fit(X_train, Y_train)\n",
    "rf_preds = rf.predict(X_val)\n",
    "rf_score = rf.score(X_val, Y_val)\n",
    "rf_score"
   ]
  },
  {
   "cell_type": "code",
   "execution_count": 33,
   "metadata": {
    "collapsed": false
   },
   "outputs": [
    {
     "name": "stdout",
     "output_type": "stream",
     "text": [
      "0.697901251012\n"
     ]
    },
    {
     "data": {
      "text/plain": [
       "array([[   12,  1907],\n",
       "       [    7, 10826]])"
      ]
     },
     "execution_count": 33,
     "metadata": {},
     "output_type": "execute_result"
    }
   ],
   "source": [
    "rf_probs = rf.predict_proba(X_val)[:,1]\n",
    "print roc_auc_score(Y_val, rf_probs)\n",
    "\n",
    "confusion_matrix(Y_val, rf_preds)"
   ]
  },
  {
   "cell_type": "code",
   "execution_count": 34,
   "metadata": {
    "collapsed": false
   },
   "outputs": [
    {
     "data": {
      "text/plain": [
       "0.84974905897114184"
      ]
     },
     "execution_count": 34,
     "metadata": {},
     "output_type": "execute_result"
    }
   ],
   "source": [
    "# ExtraTrees Classifier\n",
    "et = ExtraTreesClassifier(n_estimators=1000, n_jobs=-1)\n",
    "et.fit(X_train, Y_train)\n",
    "et_preds = et.predict(X_val)\n",
    "et_score = et.score(X_val, Y_val)\n",
    "et_score"
   ]
  },
  {
   "cell_type": "code",
   "execution_count": 35,
   "metadata": {
    "collapsed": false
   },
   "outputs": [
    {
     "name": "stdout",
     "output_type": "stream",
     "text": [
      "0.684815331072\n"
     ]
    },
    {
     "data": {
      "text/plain": [
       "array([[   21,  1898],\n",
       "       [   18, 10815]])"
      ]
     },
     "execution_count": 35,
     "metadata": {},
     "output_type": "execute_result"
    }
   ],
   "source": [
    "et_probs = et.predict_proba(X_val)[:,1]\n",
    "print roc_auc_score(Y_val, et_probs)\n",
    "\n",
    "confusion_matrix(Y_val, et_preds)"
   ]
  },
  {
   "cell_type": "code",
   "execution_count": 36,
   "metadata": {
    "collapsed": false
   },
   "outputs": [
    {
     "data": {
      "text/plain": [
       "0.84927854454203267"
      ]
     },
     "execution_count": 36,
     "metadata": {},
     "output_type": "execute_result"
    }
   ],
   "source": [
    "# XGBoost\n",
    "xgb = xgboost.XGBClassifier(n_estimators=100, n_jobs=-1, learning_rate=0.2)\n",
    "xgb.fit(X_train, Y_train)\n",
    "xgb_preds = xgb.predict(X_val)\n",
    "xgb_score = xgb.score(X_val, Y_val)\n",
    "xgb_score"
   ]
  },
  {
   "cell_type": "code",
   "execution_count": 37,
   "metadata": {
    "collapsed": false
   },
   "outputs": [
    {
     "name": "stdout",
     "output_type": "stream",
     "text": [
      "0.707819726718\n"
     ]
    },
    {
     "data": {
      "text/plain": [
       "array([[   36,  1883],\n",
       "       [   39, 10794]])"
      ]
     },
     "execution_count": 37,
     "metadata": {},
     "output_type": "execute_result"
    }
   ],
   "source": [
    "xgb_probs = xgb.predict_proba(X_val)[:,1]\n",
    "print roc_auc_score(Y_val, xgb_probs)\n",
    "\n",
    "confusion_matrix(Y_val, xgb_preds)"
   ]
  },
  {
   "cell_type": "code",
   "execution_count": 38,
   "metadata": {
    "collapsed": false
   },
   "outputs": [
    {
     "data": {
      "text/plain": [
       "0.81297051442910917"
      ]
     },
     "execution_count": 38,
     "metadata": {},
     "output_type": "execute_result"
    }
   ],
   "source": [
    "# MLP (relu for now)\n",
    "mlp = MLPClassifier(hidden_layer_sizes=(20, 10), activation='relu')\n",
    "mlp.fit(X_train, Y_train)\n",
    "mlp_preds = mlp.predict(X_val)\n",
    "mlp_score = mlp.score(X_val, Y_val)\n",
    "mlp_score"
   ]
  },
  {
   "cell_type": "code",
   "execution_count": 39,
   "metadata": {
    "collapsed": false,
    "scrolled": true
   },
   "outputs": [
    {
     "name": "stdout",
     "output_type": "stream",
     "text": [
      "0.589330860238\n"
     ]
    },
    {
     "data": {
      "text/plain": [
       "array([[  243,  1676],\n",
       "       [  709, 10124]])"
      ]
     },
     "execution_count": 39,
     "metadata": {},
     "output_type": "execute_result"
    }
   ],
   "source": [
    "mlp_probs = mlp.predict_proba(X_val)[:,1]\n",
    "print roc_auc_score(Y_val, mlp_probs)\n",
    "\n",
    "confusion_matrix(Y_val, mlp_preds)"
   ]
  },
  {
   "cell_type": "code",
   "execution_count": 40,
   "metadata": {
    "collapsed": false
   },
   "outputs": [],
   "source": [
    "voters = [\n",
    "#           ('et', ExtraTreesClassifier(n_estimators=1000, n_jobs=-1)),\n",
    "          ('rf', RandomForestClassifier(n_estimators=1000, n_jobs=-1)),\n",
    "          ('xgb', xgboost.XGBClassifier(n_estimators=100, n_jobs=-1)),\n",
    "#           ('rf-b', RandomForestClassifier(n_estimators=1000, n_jobs=-1, class_weight='balanced')),\n",
    "#           ('mlp', MLPClassifier(hidden_layer_sizes=(200, 100), activation='relu')),\n",
    "         ]"
   ]
  },
  {
   "cell_type": "code",
   "execution_count": 41,
   "metadata": {
    "collapsed": true
   },
   "outputs": [],
   "source": [
    "voting_weights = np.array([ \n",
    "#                            et_score, \n",
    "                           rf_score, \n",
    "                           xgb_score,\n",
    "#                            w_rf_score, mlp_score\n",
    "                          ])"
   ]
  },
  {
   "cell_type": "code",
   "execution_count": 42,
   "metadata": {
    "collapsed": false
   },
   "outputs": [
    {
     "data": {
      "text/plain": [
       "0.84990589711417819"
      ]
     },
     "execution_count": 42,
     "metadata": {},
     "output_type": "execute_result"
    }
   ],
   "source": [
    "voting = VotingClassifier(estimators=voters, voting='soft', weights=list(voting_weights ** 1), n_jobs=-1)\n",
    "voting.fit(X_train, Y_train)\n",
    "voting_preds = voting.predict(X_val)\n",
    "voting.score(X_val, Y_val)"
   ]
  },
  {
   "cell_type": "code",
   "execution_count": 43,
   "metadata": {
    "collapsed": false,
    "scrolled": true
   },
   "outputs": [
    {
     "name": "stdout",
     "output_type": "stream",
     "text": [
      "0.707911916992\n"
     ]
    },
    {
     "data": {
      "text/plain": [
       "array([[    9,  1910],\n",
       "       [    4, 10829]])"
      ]
     },
     "execution_count": 43,
     "metadata": {},
     "output_type": "execute_result"
    }
   ],
   "source": [
    "voting_probs = voting.predict_proba(X_val)[:,1]\n",
    "print roc_auc_score(Y_val, voting_probs)\n",
    "\n",
    "confusion_matrix(Y_val, voting_preds)"
   ]
  },
  {
   "cell_type": "code",
   "execution_count": 44,
   "metadata": {
    "collapsed": false
   },
   "outputs": [
    {
     "data": {
      "image/png": "[encoded data removed]",
      "text/plain": [
       "<matplotlib.figure.Figure at 0x114c48490>"
      ]
     },
     "metadata": {},
     "output_type": "display_data"
    }
   ],
   "source": [
    "predictions = {'logistic': logistic_probs, \n",
    "               'random forest': rf_probs, \n",
    "               'extremely randomized trees': et_probs, \n",
    "               'XGBoost': xgb_probs,\n",
    "               'neural network': mlp_probs, \n",
    "               'voting': voting_probs\n",
    "              }\n",
    "models = ['neural network', 'logistic', 'extremely randomized trees', 'random forest', 'XGBoost', 'voting']\n",
    "for key in models:\n",
    "    calculate_calibration_curve(Y_val, predictions[key], label=key)\n",
    "plt.savefig('calibration_curve.pdf')\n",
    "plt.show()"
   ]
  },
  {
   "cell_type": "code",
   "execution_count": 45,
   "metadata": {
    "collapsed": false
   },
   "outputs": [
    {
     "data": {
      "image/png": "[encoded data removed]",
      "text/plain": [
       "<matplotlib.figure.Figure at 0x1168b4790>"
      ]
     },
     "metadata": {},
     "output_type": "display_data"
    }
   ],
   "source": [
    "for key in models:\n",
    "    calculate_prob_hist(predictions[key], label=key)\n",
    "plt.savefig('prob_hist.pdf')\n",
    "plt.show()"
   ]
  },
  {
   "cell_type": "code",
   "execution_count": 46,
   "metadata": {
    "collapsed": false
   },
   "outputs": [
    {
     "data": {
      "image/png": "[encoded data removed]",
      "text/plain": [
       "<matplotlib.figure.Figure at 0x181f66cd0>"
      ]
     },
     "metadata": {},
     "output_type": "display_data"
    }
   ],
   "source": [
    "for key in models:\n",
    "    calculate_roc_curve(Y_val, predictions[key], label=key)\n",
    "plt.savefig('roc_curve.pdf')\n",
    "plt.show()"
   ]
  },
  {
   "cell_type": "code",
   "execution_count": 47,
   "metadata": {
    "collapsed": false,
    "scrolled": false
   },
   "outputs": [
    {
     "name": "stdout",
     "output_type": "stream",
     "text": [
      "('neural network', 0.1756109525971542)\n",
      "('logistic', 0.12181844634894252)\n",
      "('extremely randomized trees', 0.12126765487766586)\n",
      "('random forest', 0.11969517558029973)\n",
      "('XGBoost', 0.11842493712902069)\n",
      "('voting', 0.11845883174829593)\n",
      "('neural network', -inf)\n",
      "('logistic', -0.4013520826737017)\n",
      "('extremely randomized trees', -0.3963069407763708)\n",
      "('random forest', -0.3913783692245016)\n",
      "('XGBoost', -0.38765230774879456)\n",
      "('voting', -0.3876758553261993)\n"
     ]
    },
    {
     "name": "stderr",
     "output_type": "stream",
     "text": [
      "/Users/richard/anaconda/lib/python2.7/site-packages/ipykernel/__main__.py:17: RuntimeWarning: divide by zero encountered in log\n"
     ]
    }
   ],
   "source": [
    "for key in models:\n",
    "    print(key, brier_score(Y_val, predictions[key]))\n",
    "for key in models:\n",
    "    print(key, log_likelihood(Y_val, predictions[key]))"
   ]
  },
  {
   "cell_type": "code",
   "execution_count": 48,
   "metadata": {
    "collapsed": false,
    "scrolled": true
   },
   "outputs": [
    {
     "data": {
      "image/png": "[encoded data removed]",
      "text/plain": [
       "<matplotlib.figure.Figure at 0x116a17090>"
      ]
     },
     "metadata": {},
     "output_type": "display_data"
    }
   ],
   "source": [
    "# data to plot\n",
    "n_groups = len(models)\n",
    "brier_score_list = [brier_score(Y_val, predictions[key]) for key in models]\n",
    " \n",
    "# create plot\n",
    "index = np.arange(n_groups)\n",
    " \n",
    "plt.bar(index, brier_score_list, \n",
    "        label='Brier score')\n",
    " \n",
    "models[2] = 'extremely\\nrandomized\\ntrees'\n",
    "plt.xlabel('Model')\n",
    "plt.ylabel('Brier score')\n",
    "plt.ylim(ymin=0.1)\n",
    "plt.title('Brier Scores for Classification Models')\n",
    "plt.xticks(index, models)\n",
    " \n",
    "plt.savefig('classification_brier.pdf')\n",
    "plt.show()"
   ]
  },
  {
   "cell_type": "code",
   "execution_count": 49,
   "metadata": {
    "collapsed": false
   },
   "outputs": [
    {
     "data": {
      "image/png": "[encoded data removed]",
      "text/plain": [
       "<matplotlib.figure.Figure at 0x10ef48d10>"
      ]
     },
     "metadata": {},
     "output_type": "display_data"
    }
   ],
   "source": [
    "models[models.index('extremely\\nrandomized\\ntrees')] = 'extremely randomized trees'\n",
    "auc_list = [roc_auc_score(Y_val, predictions[key]) for key in models]\n",
    " \n",
    "# create plot\n",
    "index = np.arange(len(models))\n",
    " \n",
    "plt.bar(index, auc_list, \n",
    "        label='AUC')\n",
    " \n",
    "models[2] = 'extremely\\nrandomized\\ntrees'\n",
    "plt.xlabel('Method')\n",
    "plt.ylabel('AUC Score')\n",
    "plt.ylim(ymin=0.50)\n",
    "plt.title('AUC Scores for Classification Models')\n",
    "plt.xticks(index, models)\n",
    "\n",
    "plt.savefig('classification_auc.pdf')\n",
    "plt.show()"
   ]
  },
  {
   "cell_type": "code",
   "execution_count": 50,
   "metadata": {
    "collapsed": false
   },
   "outputs": [
    {
     "name": "stderr",
     "output_type": "stream",
     "text": [
      "/Users/richard/anaconda/lib/python2.7/site-packages/ipykernel/__main__.py:17: RuntimeWarning: divide by zero encountered in log\n"
     ]
    },
    {
     "data": {
      "image/png": "[encoded data removed]",
      "text/plain": [
       "<matplotlib.figure.Figure at 0x181f66150>"
      ]
     },
     "metadata": {},
     "output_type": "display_data"
    }
   ],
   "source": [
    "models.remove('neural network')\n",
    "models[models.index('extremely\\nrandomized\\ntrees')] = 'extremely randomized trees'\n",
    "log_likelihood_list = [-log_likelihood(Y_val, predictions[key]) for key in models]\n",
    " \n",
    "# create plot\n",
    "index = np.arange(len(models))\n",
    " \n",
    "plt.bar(index, log_likelihood_list, \n",
    "         label='Negative Log-Likelihood')\n",
    " \n",
    "models[1] = 'extremely\\nrandomized\\ntrees'\n",
    "plt.xlabel('Method')\n",
    "plt.ylabel('Negative Log-Likelihood')\n",
    "plt.ylim(ymin=0.35)\n",
    "plt.title('Negative Log-Likelihood for Classification Models')\n",
    "plt.xticks(index, models)\n",
    "\n",
    "plt.savefig('classification_loglik.pdf')\n",
    "plt.show()"
   ]
  },
  {
   "cell_type": "code",
   "execution_count": 51,
   "metadata": {
    "collapsed": false
   },
   "outputs": [],
   "source": [
    "rf_scores = []\n",
    "for n_trees in [1, 2, 5, 10, 20, 50, 100, 200, 500, 1000, 2000, 5000, 10000]:\n",
    "    rf = RandomForestClassifier(n_estimators=n_trees, n_jobs=-1)\n",
    "    rf.fit(X_train, Y_train)\n",
    "    rf_probs = rf.predict_proba(X_val)[:,1]\n",
    "    rf_scores.append(roc_auc_score(Y_val, rf_probs))"
   ]
  },
  {
   "cell_type": "code",
   "execution_count": 52,
   "metadata": {
    "collapsed": false
   },
   "outputs": [
    {
     "data": {
      "image/png": "[encoded data removed]",
      "text/plain": [
       "<matplotlib.figure.Figure at 0x255801510>"
      ]
     },
     "metadata": {},
     "output_type": "display_data"
    }
   ],
   "source": [
    "plt.semilogx([1, 2, 5, 10, 20, 50, 100, 200, 500, 1000, 2000, 5000, 10000],\n",
    "             rf_scores)\n",
    "plt.xlabel('Number of Trees in Random Forest (Log Scale)')\n",
    "plt.ylabel('AUC Score (Accuracy)')\n",
    "plt.title('Random Forest Classifier: Number of Trees and Accuracy')\n",
    "plt.savefig('num_trees_rfc.pdf')"
   ]
  },
  {
   "cell_type": "code",
   "execution_count": 53,
   "metadata": {
    "collapsed": true
   },
   "outputs": [],
   "source": [
    "xgb_scores = []\n",
    "for n_trees in [1, 2, 5, 10, 20, 50, 100, 200, 500, 1000]:\n",
    "    xgb = xgboost.XGBClassifier(n_estimators=n_trees, n_jobs=-1)\n",
    "    xgb.fit(X_train, Y_train)\n",
    "    xgb_probs = xgb.predict_proba(X_val)[:,1]\n",
    "    xgb_scores.append(roc_auc_score(Y_val, xgb_probs))"
   ]
  },
  {
   "cell_type": "code",
   "execution_count": 54,
   "metadata": {
    "collapsed": false
   },
   "outputs": [
    {
     "data": {
      "image/png": "[encoded data removed]",
      "text/plain": [
       "<matplotlib.figure.Figure at 0x127ad6290>"
      ]
     },
     "metadata": {},
     "output_type": "display_data"
    }
   ],
   "source": [
    "plt.semilogx([1, 2, 5, 10, 20, 50, 100, 200, 500, 1000],\n",
    "             xgb_scores)\n",
    "plt.xlabel('Number of Trees in XGBoost (Log Scale)')\n",
    "plt.ylabel('AUC Score (Accuracy)')\n",
    "plt.title('XGBoost Classifier: Number of Trees and Accuracy')\n",
    "plt.savefig('num_trees_xgbc.pdf')"
   ]
  },
  {
   "cell_type": "code",
   "execution_count": null,
   "metadata": {
    "collapsed": false
   },
   "outputs": [],
   "source": []
  },
  {
   "cell_type": "markdown",
   "metadata": {},
   "source": [
    "# feature importances"
   ]
  },
  {
   "cell_type": "code",
   "execution_count": 55,
   "metadata": {
    "collapsed": false
   },
   "outputs": [
    {
     "name": "stdout",
     "output_type": "stream",
     "text": [
      "Feature ranking:\n",
      "1 & revol_bal & 0.111262 \\\\\n",
      "2 & dti & 0.103542 \\\\\n",
      "3 & annual_inc & 0.094005 \\\\\n",
      "4 & installment & 0.092643 \\\\\n",
      "5 & revol_util & 0.091129 \\\\\n",
      "6 & int_rate & 0.064184 \\\\\n",
      "7 & total_acc & 0.057675 \\\\\n",
      "8 & earliest_cr_line_year & 0.056464 \\\\\n",
      "9 & funded_amnt & 0.053134 \\\\\n",
      "10 & open_acc & 0.036633 \\\\\n",
      "11 & issue_month & 0.034060 \\\\\n",
      "12 & earliest_cr_line_month & 0.028156 \\\\\n",
      "13 & sub_grade & 0.027097 \\\\\n",
      "14 & inq_last_6mths & 0.026037 \\\\\n",
      "15 & emp_length & 0.022101 \\\\\n",
      "16 & issue_year & 0.015138 \\\\\n",
      "17 & delinq_2yrs & 0.011656 \\\\\n",
      "18 & term & 0.006963 \\\\\n",
      "19 & grade & 0.006812 \\\\\n",
      "20 & purpose_small_business & 0.006206 \\\\\n",
      "21 & pub_rec & 0.005147 \\\\\n",
      "22 & purpose_major_purchase & 0.004390 \\\\\n",
      "23 & purpose_credit_card & 0.004239 \\\\\n",
      "24 & has_employment & 0.003784 \\\\\n",
      "25 & purpose_other & 0.003633 \\\\\n",
      "26 & verification_status_Verified & 0.003482 \\\\\n",
      "27 & purpose_debt_consolidation & 0.003482 \\\\\n",
      "28 & home_ownership_RENT & 0.003330 \\\\\n",
      "29 & verification_status_Source Verified & 0.003028 \\\\\n",
      "30 & purpose_wedding & 0.003028 \\\\\n",
      "31 & home_ownership_OWN & 0.002573 \\\\\n",
      "32 & home_ownership_OTHER & 0.002422 \\\\\n",
      "33 & purpose_educational & 0.002119 \\\\\n",
      "34 & purpose_home_improvement & 0.002119 \\\\\n",
      "35 & purpose_medical & 0.001968 \\\\\n",
      "36 & purpose_moving & 0.001968 \\\\\n",
      "37 & purpose_house & 0.001665 \\\\\n",
      "38 & purpose_vacation & 0.001362 \\\\\n",
      "39 & pub_rec_bankruptcies & 0.001060 \\\\\n",
      "40 & purpose_renewable_energy & 0.000303 \\\\\n",
      "41 & tax_liens & 0.000000 \\\\\n",
      "42 & home_ownership_NONE & 0.000000 \\\\\n"
     ]
    }
   ],
   "source": [
    "importances = xgb.feature_importances_\n",
    "indices = np.argsort(importances)[::-1]\n",
    "print(\"Feature ranking:\")\n",
    "\n",
    "for i in range(X.shape[1]):\n",
    "    print(\"%d & %s & %f \\\\\\\\\" % (i + 1, X.columns[indices[i]], importances[indices[i]]))"
   ]
  },
  {
   "cell_type": "code",
   "execution_count": 56,
   "metadata": {
    "collapsed": false,
    "scrolled": true
   },
   "outputs": [
    {
     "data": {
      "text/plain": [
       "Index([u'funded_amnt', u'term', u'int_rate', u'installment', u'grade',\n",
       "       u'sub_grade', u'emp_length', u'annual_inc', u'loan_status', u'dti',\n",
       "       u'delinq_2yrs', u'inq_last_6mths', u'open_acc', u'pub_rec',\n",
       "       u'revol_bal', u'revol_util', u'total_acc', u'pub_rec_bankruptcies',\n",
       "       u'tax_liens', u'has_employment', u'issue_month', u'issue_year',\n",
       "       u'earliest_cr_line_month', u'earliest_cr_line_year',\n",
       "       u'home_ownership_NONE', u'home_ownership_OTHER', u'home_ownership_OWN',\n",
       "       u'home_ownership_RENT', u'purpose_credit_card',\n",
       "       u'purpose_debt_consolidation', u'purpose_educational',\n",
       "       u'purpose_home_improvement', u'purpose_house',\n",
       "       u'purpose_major_purchase', u'purpose_medical', u'purpose_moving',\n",
       "       u'purpose_other', u'purpose_renewable_energy',\n",
       "       u'purpose_small_business', u'purpose_vacation', u'purpose_wedding',\n",
       "       u'verification_status_Source Verified',\n",
       "       u'verification_status_Verified'],\n",
       "      dtype='object')"
      ]
     },
     "execution_count": 56,
     "metadata": {},
     "output_type": "execute_result"
    }
   ],
   "source": [
    "df.columns"
   ]
  },
  {
   "cell_type": "markdown",
   "metadata": {},
   "source": [
    "# predicting the interest rate (regression)"
   ]
  },
  {
   "cell_type": "markdown",
   "metadata": {},
   "source": [
    "## regression evaluation metrics"
   ]
  },
  {
   "cell_type": "code",
   "execution_count": 57,
   "metadata": {
    "collapsed": true
   },
   "outputs": [],
   "source": [
    "def mse(actual, predicted):\n",
    "    return np.mean(np.square(actual - predicted))\n",
    "\n",
    "def mae(actual, predicted):\n",
    "    return np.mean(np.absolute(actual - predicted))"
   ]
  },
  {
   "cell_type": "code",
   "execution_count": 58,
   "metadata": {
    "collapsed": true
   },
   "outputs": [],
   "source": [
    "Y = df['int_rate']\n",
    "X = df.drop(['int_rate', 'loan_status', 'grade', 'sub_grade', 'installment'], axis=1)\n",
    "X_train, X_val, Y_train, Y_val = train_test_split(X, Y, test_size=0.3)"
   ]
  },
  {
   "cell_type": "code",
   "execution_count": 59,
   "metadata": {
    "collapsed": false,
    "scrolled": true
   },
   "outputs": [
    {
     "data": {
      "text/html": [
       "<table class=\"simpletable\">\n",
       "<caption>OLS Regression Results</caption>\n",
       "<tr>\n",
       "  <th>Dep. Variable:</th>        <td>int_rate</td>     <th>  R-squared:         </th> <td>   0.959</td> \n",
       "</tr>\n",
       "<tr>\n",
       "  <th>Model:</th>                   <td>OLS</td>       <th>  Adj. R-squared:    </th> <td>   0.958</td> \n",
       "</tr>\n",
       "<tr>\n",
       "  <th>Method:</th>             <td>Least Squares</td>  <th>  F-statistic:       </th> <td>1.808e+04</td>\n",
       "</tr>\n",
       "<tr>\n",
       "  <th>Date:</th>             <td>Mon, 05 Mar 2018</td> <th>  Prob (F-statistic):</th>  <td>  0.00</td>  \n",
       "</tr>\n",
       "<tr>\n",
       "  <th>Time:</th>                 <td>17:17:46</td>     <th>  Log-Likelihood:    </th> <td> -70516.</td> \n",
       "</tr>\n",
       "<tr>\n",
       "  <th>No. Observations:</th>      <td> 29754</td>      <th>  AIC:               </th> <td>1.411e+05</td>\n",
       "</tr>\n",
       "<tr>\n",
       "  <th>Df Residuals:</th>          <td> 29716</td>      <th>  BIC:               </th> <td>1.414e+05</td>\n",
       "</tr>\n",
       "<tr>\n",
       "  <th>Df Model:</th>              <td>    38</td>      <th>                     </th>     <td> </td>    \n",
       "</tr>\n",
       "<tr>\n",
       "  <th>Covariance Type:</th>      <td>nonrobust</td>    <th>                     </th>     <td> </td>    \n",
       "</tr>\n",
       "</table>\n",
       "<table class=\"simpletable\">\n",
       "<tr>\n",
       "                   <td></td>                      <th>coef</th>     <th>std err</th>      <th>t</th>      <th>P>|t|</th>  <th>[0.025</th>    <th>0.975]</th>  \n",
       "</tr>\n",
       "<tr>\n",
       "  <th>funded_amnt</th>                         <td>    0.0001</td> <td> 2.64e-06</td> <td>   39.287</td> <td> 0.000</td> <td> 9.86e-05</td> <td>    0.000</td>\n",
       "</tr>\n",
       "<tr>\n",
       "  <th>term</th>                                <td>    0.1316</td> <td>    0.002</td> <td>   82.292</td> <td> 0.000</td> <td>    0.128</td> <td>    0.135</td>\n",
       "</tr>\n",
       "<tr>\n",
       "  <th>emp_length</th>                          <td>   -0.0206</td> <td>    0.005</td> <td>   -4.521</td> <td> 0.000</td> <td>   -0.029</td> <td>   -0.012</td>\n",
       "</tr>\n",
       "<tr>\n",
       "  <th>annual_inc</th>                          <td> 2.659e-07</td> <td> 2.49e-07</td> <td>    1.068</td> <td> 0.286</td> <td>-2.22e-07</td> <td> 7.54e-07</td>\n",
       "</tr>\n",
       "<tr>\n",
       "  <th>dti</th>                                 <td>   -0.0101</td> <td>    0.003</td> <td>   -3.909</td> <td> 0.000</td> <td>   -0.015</td> <td>   -0.005</td>\n",
       "</tr>\n",
       "<tr>\n",
       "  <th>delinq_2yrs</th>                         <td>    1.2717</td> <td>    0.029</td> <td>   43.890</td> <td> 0.000</td> <td>    1.215</td> <td>    1.329</td>\n",
       "</tr>\n",
       "<tr>\n",
       "  <th>inq_last_6mths</th>                      <td>    0.4612</td> <td>    0.010</td> <td>   44.479</td> <td> 0.000</td> <td>    0.441</td> <td>    0.481</td>\n",
       "</tr>\n",
       "<tr>\n",
       "  <th>open_acc</th>                            <td>    0.1120</td> <td>    0.005</td> <td>   23.014</td> <td> 0.000</td> <td>    0.102</td> <td>    0.122</td>\n",
       "</tr>\n",
       "<tr>\n",
       "  <th>pub_rec</th>                             <td>    1.0478</td> <td>    0.110</td> <td>    9.566</td> <td> 0.000</td> <td>    0.833</td> <td>    1.262</td>\n",
       "</tr>\n",
       "<tr>\n",
       "  <th>revol_bal</th>                           <td> -8.72e-06</td> <td> 7.69e-07</td> <td>  -11.338</td> <td> 0.000</td> <td>-1.02e-05</td> <td>-7.21e-06</td>\n",
       "</tr>\n",
       "<tr>\n",
       "  <th>revol_util</th>                          <td>    0.0588</td> <td>    0.001</td> <td>   98.559</td> <td> 0.000</td> <td>    0.058</td> <td>    0.060</td>\n",
       "</tr>\n",
       "<tr>\n",
       "  <th>total_acc</th>                           <td>   -0.0519</td> <td>    0.002</td> <td>  -26.620</td> <td> 0.000</td> <td>   -0.056</td> <td>   -0.048</td>\n",
       "</tr>\n",
       "<tr>\n",
       "  <th>pub_rec_bankruptcies</th>                <td>   -0.0212</td> <td>    0.131</td> <td>   -0.162</td> <td> 0.871</td> <td>   -0.277</td> <td>    0.235</td>\n",
       "</tr>\n",
       "<tr>\n",
       "  <th>tax_liens</th>                           <td>   -2.8243</td> <td>    2.594</td> <td>   -1.089</td> <td> 0.276</td> <td>   -7.908</td> <td>    2.260</td>\n",
       "</tr>\n",
       "<tr>\n",
       "  <th>has_employment</th>                      <td>    0.4850</td> <td>    0.100</td> <td>    4.840</td> <td> 0.000</td> <td>    0.289</td> <td>    0.681</td>\n",
       "</tr>\n",
       "<tr>\n",
       "  <th>issue_month</th>                         <td>   -0.0229</td> <td>    0.004</td> <td>   -5.148</td> <td> 0.000</td> <td>   -0.032</td> <td>   -0.014</td>\n",
       "</tr>\n",
       "<tr>\n",
       "  <th>issue_year</th>                          <td>   -0.3829</td> <td>    0.018</td> <td>  -21.199</td> <td> 0.000</td> <td>   -0.418</td> <td>   -0.347</td>\n",
       "</tr>\n",
       "<tr>\n",
       "  <th>earliest_cr_line_month</th>              <td>   -0.0052</td> <td>    0.004</td> <td>   -1.230</td> <td> 0.219</td> <td>   -0.014</td> <td>    0.003</td>\n",
       "</tr>\n",
       "<tr>\n",
       "  <th>earliest_cr_line_year</th>               <td>    0.0024</td> <td>    0.000</td> <td>   20.766</td> <td> 0.000</td> <td>    0.002</td> <td>    0.003</td>\n",
       "</tr>\n",
       "<tr>\n",
       "  <th>home_ownership_NONE</th>                 <td>   -0.6733</td> <td>    1.297</td> <td>   -0.519</td> <td> 0.604</td> <td>   -3.215</td> <td>    1.868</td>\n",
       "</tr>\n",
       "<tr>\n",
       "  <th>home_ownership_OTHER</th>                <td>    0.5898</td> <td>    0.267</td> <td>    2.209</td> <td> 0.027</td> <td>    0.066</td> <td>    1.113</td>\n",
       "</tr>\n",
       "<tr>\n",
       "  <th>home_ownership_OWN</th>                  <td>    0.4904</td> <td>    0.060</td> <td>    8.156</td> <td> 0.000</td> <td>    0.373</td> <td>    0.608</td>\n",
       "</tr>\n",
       "<tr>\n",
       "  <th>home_ownership_RENT</th>                 <td>    0.5888</td> <td>    0.036</td> <td>   16.550</td> <td> 0.000</td> <td>    0.519</td> <td>    0.659</td>\n",
       "</tr>\n",
       "<tr>\n",
       "  <th>purpose_credit_card</th>                 <td>    0.1384</td> <td>    0.090</td> <td>    1.539</td> <td> 0.124</td> <td>   -0.038</td> <td>    0.315</td>\n",
       "</tr>\n",
       "<tr>\n",
       "  <th>purpose_debt_consolidation</th>          <td>    0.5174</td> <td>    0.083</td> <td>    6.266</td> <td> 0.000</td> <td>    0.356</td> <td>    0.679</td>\n",
       "</tr>\n",
       "<tr>\n",
       "  <th>purpose_educational</th>                 <td>    1.0435</td> <td>    0.173</td> <td>    6.016</td> <td> 0.000</td> <td>    0.704</td> <td>    1.383</td>\n",
       "</tr>\n",
       "<tr>\n",
       "  <th>purpose_home_improvement</th>            <td>    0.7338</td> <td>    0.096</td> <td>    7.661</td> <td> 0.000</td> <td>    0.546</td> <td>    0.922</td>\n",
       "</tr>\n",
       "<tr>\n",
       "  <th>purpose_house</th>                       <td>    0.8637</td> <td>    0.170</td> <td>    5.069</td> <td> 0.000</td> <td>    0.530</td> <td>    1.198</td>\n",
       "</tr>\n",
       "<tr>\n",
       "  <th>purpose_major_purchase</th>              <td>    0.6072</td> <td>    0.101</td> <td>    6.009</td> <td> 0.000</td> <td>    0.409</td> <td>    0.805</td>\n",
       "</tr>\n",
       "<tr>\n",
       "  <th>purpose_medical</th>                     <td>    0.6334</td> <td>    0.137</td> <td>    4.613</td> <td> 0.000</td> <td>    0.364</td> <td>    0.903</td>\n",
       "</tr>\n",
       "<tr>\n",
       "  <th>purpose_moving</th>                      <td>    0.8415</td> <td>    0.145</td> <td>    5.798</td> <td> 0.000</td> <td>    0.557</td> <td>    1.126</td>\n",
       "</tr>\n",
       "<tr>\n",
       "  <th>purpose_other</th>                       <td>    0.8488</td> <td>    0.091</td> <td>    9.350</td> <td> 0.000</td> <td>    0.671</td> <td>    1.027</td>\n",
       "</tr>\n",
       "<tr>\n",
       "  <th>purpose_renewable_energy</th>            <td>    0.5497</td> <td>    0.298</td> <td>    1.842</td> <td> 0.065</td> <td>   -0.035</td> <td>    1.134</td>\n",
       "</tr>\n",
       "<tr>\n",
       "  <th>purpose_small_business</th>              <td>    1.5131</td> <td>    0.105</td> <td>   14.353</td> <td> 0.000</td> <td>    1.306</td> <td>    1.720</td>\n",
       "</tr>\n",
       "<tr>\n",
       "  <th>purpose_vacation</th>                    <td>    0.6452</td> <td>    0.174</td> <td>    3.711</td> <td> 0.000</td> <td>    0.304</td> <td>    0.986</td>\n",
       "</tr>\n",
       "<tr>\n",
       "  <th>purpose_wedding</th>                     <td>    0.7143</td> <td>    0.125</td> <td>    5.695</td> <td> 0.000</td> <td>    0.468</td> <td>    0.960</td>\n",
       "</tr>\n",
       "<tr>\n",
       "  <th>verification_status_Source Verified</th> <td>    0.2517</td> <td>    0.040</td> <td>    6.255</td> <td> 0.000</td> <td>    0.173</td> <td>    0.331</td>\n",
       "</tr>\n",
       "<tr>\n",
       "  <th>verification_status_Verified</th>        <td>    0.3998</td> <td>    0.040</td> <td>   10.107</td> <td> 0.000</td> <td>    0.322</td> <td>    0.477</td>\n",
       "</tr>\n",
       "</table>\n",
       "<table class=\"simpletable\">\n",
       "<tr>\n",
       "  <th>Omnibus:</th>       <td>597.594</td> <th>  Durbin-Watson:     </th> <td>   2.008</td> \n",
       "</tr>\n",
       "<tr>\n",
       "  <th>Prob(Omnibus):</th> <td> 0.000</td>  <th>  Jarque-Bera (JB):  </th> <td> 657.494</td> \n",
       "</tr>\n",
       "<tr>\n",
       "  <th>Skew:</th>          <td> 0.324</td>  <th>  Prob(JB):          </th> <td>1.69e-143</td>\n",
       "</tr>\n",
       "<tr>\n",
       "  <th>Kurtosis:</th>      <td> 3.332</td>  <th>  Cond. No.          </th> <td>1.69e+07</td> \n",
       "</tr>\n",
       "</table>"
      ],
      "text/plain": [
       "<class 'statsmodels.iolib.summary.Summary'>\n",
       "\"\"\"\n",
       "                            OLS Regression Results                            \n",
       "==============================================================================\n",
       "Dep. Variable:               int_rate   R-squared:                       0.959\n",
       "Model:                            OLS   Adj. R-squared:                  0.958\n",
       "Method:                 Least Squares   F-statistic:                 1.808e+04\n",
       "Date:                Mon, 05 Mar 2018   Prob (F-statistic):               0.00\n",
       "Time:                        17:17:46   Log-Likelihood:                -70516.\n",
       "No. Observations:               29754   AIC:                         1.411e+05\n",
       "Df Residuals:                   29716   BIC:                         1.414e+05\n",
       "Df Model:                          38                                         \n",
       "Covariance Type:            nonrobust                                         \n",
       "=======================================================================================================\n",
       "                                          coef    std err          t      P>|t|      [0.025      0.975]\n",
       "-------------------------------------------------------------------------------------------------------\n",
       "funded_amnt                             0.0001   2.64e-06     39.287      0.000    9.86e-05       0.000\n",
       "term                                    0.1316      0.002     82.292      0.000       0.128       0.135\n",
       "emp_length                             -0.0206      0.005     -4.521      0.000      -0.029      -0.012\n",
       "annual_inc                           2.659e-07   2.49e-07      1.068      0.286   -2.22e-07    7.54e-07\n",
       "dti                                    -0.0101      0.003     -3.909      0.000      -0.015      -0.005\n",
       "delinq_2yrs                             1.2717      0.029     43.890      0.000       1.215       1.329\n",
       "inq_last_6mths                          0.4612      0.010     44.479      0.000       0.441       0.481\n",
       "open_acc                                0.1120      0.005     23.014      0.000       0.102       0.122\n",
       "pub_rec                                 1.0478      0.110      9.566      0.000       0.833       1.262\n",
       "revol_bal                            -8.72e-06   7.69e-07    -11.338      0.000   -1.02e-05   -7.21e-06\n",
       "revol_util                              0.0588      0.001     98.559      0.000       0.058       0.060\n",
       "total_acc                              -0.0519      0.002    -26.620      0.000      -0.056      -0.048\n",
       "pub_rec_bankruptcies                   -0.0212      0.131     -0.162      0.871      -0.277       0.235\n",
       "tax_liens                              -2.8243      2.594     -1.089      0.276      -7.908       2.260\n",
       "has_employment                          0.4850      0.100      4.840      0.000       0.289       0.681\n",
       "issue_month                            -0.0229      0.004     -5.148      0.000      -0.032      -0.014\n",
       "issue_year                             -0.3829      0.018    -21.199      0.000      -0.418      -0.347\n",
       "earliest_cr_line_month                 -0.0052      0.004     -1.230      0.219      -0.014       0.003\n",
       "earliest_cr_line_year                   0.0024      0.000     20.766      0.000       0.002       0.003\n",
       "home_ownership_NONE                    -0.6733      1.297     -0.519      0.604      -3.215       1.868\n",
       "home_ownership_OTHER                    0.5898      0.267      2.209      0.027       0.066       1.113\n",
       "home_ownership_OWN                      0.4904      0.060      8.156      0.000       0.373       0.608\n",
       "home_ownership_RENT                     0.5888      0.036     16.550      0.000       0.519       0.659\n",
       "purpose_credit_card                     0.1384      0.090      1.539      0.124      -0.038       0.315\n",
       "purpose_debt_consolidation              0.5174      0.083      6.266      0.000       0.356       0.679\n",
       "purpose_educational                     1.0435      0.173      6.016      0.000       0.704       1.383\n",
       "purpose_home_improvement                0.7338      0.096      7.661      0.000       0.546       0.922\n",
       "purpose_house                           0.8637      0.170      5.069      0.000       0.530       1.198\n",
       "purpose_major_purchase                  0.6072      0.101      6.009      0.000       0.409       0.805\n",
       "purpose_medical                         0.6334      0.137      4.613      0.000       0.364       0.903\n",
       "purpose_moving                          0.8415      0.145      5.798      0.000       0.557       1.126\n",
       "purpose_other                           0.8488      0.091      9.350      0.000       0.671       1.027\n",
       "purpose_renewable_energy                0.5497      0.298      1.842      0.065      -0.035       1.134\n",
       "purpose_small_business                  1.5131      0.105     14.353      0.000       1.306       1.720\n",
       "purpose_vacation                        0.6452      0.174      3.711      0.000       0.304       0.986\n",
       "purpose_wedding                         0.7143      0.125      5.695      0.000       0.468       0.960\n",
       "verification_status_Source Verified     0.2517      0.040      6.255      0.000       0.173       0.331\n",
       "verification_status_Verified            0.3998      0.040     10.107      0.000       0.322       0.477\n",
       "==============================================================================\n",
       "Omnibus:                      597.594   Durbin-Watson:                   2.008\n",
       "Prob(Omnibus):                  0.000   Jarque-Bera (JB):              657.494\n",
       "Skew:                           0.324   Prob(JB):                    1.69e-143\n",
       "Kurtosis:                       3.332   Cond. No.                     1.69e+07\n",
       "==============================================================================\n",
       "\n",
       "Warnings:\n",
       "[1] Standard Errors assume that the covariance matrix of the errors is correctly specified.\n",
       "[2] The condition number is large, 1.69e+07. This might indicate that there are\n",
       "strong multicollinearity or other numerical problems.\n",
       "\"\"\""
      ]
     },
     "execution_count": 59,
     "metadata": {},
     "output_type": "execute_result"
    }
   ],
   "source": [
    "# OLS from statsmodels\n",
    "linear = sm.OLS(Y_train, X_train)\n",
    "model = linear.fit()\n",
    "model.summary()"
   ]
  },
  {
   "cell_type": "code",
   "execution_count": 60,
   "metadata": {
    "collapsed": true
   },
   "outputs": [],
   "source": [
    "with open('linear_output.tex', 'w') as f:\n",
    "    f.write(model.summary().as_latex())"
   ]
  },
  {
   "cell_type": "code",
   "execution_count": 61,
   "metadata": {
    "collapsed": false
   },
   "outputs": [
    {
     "name": "stdout",
     "output_type": "stream",
     "text": [
      "0.522076758326\n"
     ]
    }
   ],
   "source": [
    "# Linear Regression \n",
    "linear = LinearRegression()\n",
    "linear.fit(X_train, Y_train)\n",
    "linear_preds = linear.predict(X_val)\n",
    "linear_score = linear.score(X_val, Y_val)\n",
    "print linear_score"
   ]
  },
  {
   "cell_type": "code",
   "execution_count": 62,
   "metadata": {
    "collapsed": false
   },
   "outputs": [
    {
     "name": "stdout",
     "output_type": "stream",
     "text": [
      "0.654380213349\n"
     ]
    }
   ],
   "source": [
    "# Random Forest Regressor\n",
    "rf = RandomForestRegressor(n_estimators=1000, n_jobs=-1)\n",
    "rf.fit(X_train, Y_train)\n",
    "rf_preds = rf.predict(X_val)\n",
    "rf_score = rf.score(X_val, Y_val)\n",
    "print rf_score"
   ]
  },
  {
   "cell_type": "code",
   "execution_count": 63,
   "metadata": {
    "collapsed": false
   },
   "outputs": [
    {
     "name": "stdout",
     "output_type": "stream",
     "text": [
      "0.652413136388\n"
     ]
    }
   ],
   "source": [
    "# ExtraTrees Regressor\n",
    "et = ExtraTreesRegressor(n_estimators=1000, n_jobs=-1)\n",
    "et.fit(X_train, Y_train)\n",
    "et_preds = et.predict(X_val)\n",
    "et_score = et.score(X_val, Y_val)\n",
    "print et_score"
   ]
  },
  {
   "cell_type": "code",
   "execution_count": 64,
   "metadata": {
    "collapsed": false
   },
   "outputs": [
    {
     "name": "stdout",
     "output_type": "stream",
     "text": [
      "-292.479485509\n"
     ]
    }
   ],
   "source": [
    "# MLP Regressor\n",
    "mlp = MLPRegressor(hidden_layer_sizes=(100, 50), activation='relu')\n",
    "mlp.fit(X_train, Y_train)\n",
    "mlp_preds = mlp.predict(X_val)\n",
    "mlp_score = mlp.score(X_val, Y_val)\n",
    "print mlp_score"
   ]
  },
  {
   "cell_type": "code",
   "execution_count": 65,
   "metadata": {
    "collapsed": false
   },
   "outputs": [
    {
     "name": "stdout",
     "output_type": "stream",
     "text": [
      "0.671090035975\n"
     ]
    }
   ],
   "source": [
    "# XGBoost\n",
    "xgb = xgboost.XGBRegressor(n_estimators=10000, n_jobs=-1)\n",
    "xgb.fit(X_train, Y_train)\n",
    "xgb_preds = xgb.predict(X_val)\n",
    "xgb_score = xgb.score(X_val, Y_val)\n",
    "print xgb_score"
   ]
  },
  {
   "cell_type": "code",
   "execution_count": 66,
   "metadata": {
    "collapsed": false
   },
   "outputs": [
    {
     "data": {
      "text/plain": [
       "(4.521580485098069, 1.6628228454308622)"
      ]
     },
     "execution_count": 66,
     "metadata": {},
     "output_type": "execute_result"
    }
   ],
   "source": [
    "mse(Y_val, xgb_preds), mae(Y_val, xgb_preds)"
   ]
  },
  {
   "cell_type": "code",
   "execution_count": 67,
   "metadata": {
    "collapsed": false
   },
   "outputs": [
    {
     "data": {
      "text/plain": [
       "0.69067987197574232"
      ]
     },
     "execution_count": 67,
     "metadata": {},
     "output_type": "execute_result"
    }
   ],
   "source": [
    "voting_preds = (rf_preds * rf_score + xgb_preds * xgb_score) / (rf_score + xgb_score)\n",
    "voting_score = np.corrcoef(Y_val, voting_preds)[0][1] ** 2\n",
    "voting_score"
   ]
  },
  {
   "cell_type": "code",
   "execution_count": 68,
   "metadata": {
    "collapsed": false,
    "scrolled": true
   },
   "outputs": [
    {
     "name": "stdout",
     "output_type": "stream",
     "text": [
      "('linear', 6.5700910257768195)\n",
      "('extremely randomized trees', 4.778322826533892)\n",
      "('random forest', 4.751322547796977)\n",
      "('XGBoost', 4.521580485098069)\n",
      "('voting', 4.26281685393634)\n",
      "('linear', 2.038644192291951)\n",
      "('extremely randomized trees', 1.721914699654956)\n",
      "('random forest', 1.708374029171889)\n",
      "('XGBoost', 1.6628228454308622)\n",
      "('voting', 1.612250099517484)\n"
     ]
    }
   ],
   "source": [
    "predictions = {'linear': linear_preds, \n",
    "               'random forest': rf_preds, \n",
    "               'extremely randomized trees': et_preds, \n",
    "               'XGBoost': xgb_preds,\n",
    "               'voting': voting_preds}\n",
    "models = ['linear', 'extremely randomized trees', 'random forest', 'XGBoost', 'voting']\n",
    "for key in models:\n",
    "    print(key, mse(Y_val, predictions[key]))\n",
    "for key in models:\n",
    "    print(key, mae(Y_val, predictions[key]))"
   ]
  },
  {
   "cell_type": "code",
   "execution_count": 69,
   "metadata": {
    "collapsed": false
   },
   "outputs": [
    {
     "data": {
      "image/png": "[encoded data removed]",
      "text/plain": [
       "<matplotlib.figure.Figure at 0x15dfef290>"
      ]
     },
     "metadata": {},
     "output_type": "display_data"
    }
   ],
   "source": [
    "n_groups = len(models)\n",
    "mse_list = [mse(Y_val, predictions[key]) for key in models]\n",
    "mae_list = [mae(Y_val, predictions[key]) for key in models]\n",
    " \n",
    "# create plot\n",
    "index = np.arange(n_groups)\n",
    "bar_width = 0.35\n",
    " \n",
    "plt.bar(index, mse_list, bar_width,\n",
    "        label='MSE')\n",
    "plt.bar(index + bar_width, mae_list, bar_width,\n",
    "        label='MAE')\n",
    " \n",
    "models[1] = 'extremely\\nrandomized\\ntrees'\n",
    "plt.xlabel('Model')\n",
    "plt.ylabel('Error')\n",
    "plt.title('Accuracy Measures for Regression Models')\n",
    "plt.xticks(index + bar_width / 2., models)\n",
    "plt.legend()\n",
    " \n",
    "plt.savefig('regression_errors.pdf')\n",
    "plt.show()"
   ]
  },
  {
   "cell_type": "code",
   "execution_count": 70,
   "metadata": {
    "collapsed": false
   },
   "outputs": [
    {
     "data": {
      "image/png": "[encoded data removed]",
      "text/plain": [
       "<matplotlib.figure.Figure at 0x1afd73fd0>"
      ]
     },
     "metadata": {},
     "output_type": "display_data"
    }
   ],
   "source": [
    "models[models.index('extremely\\nrandomized\\ntrees')] = 'extremely randomized trees'\n",
    "r2_list = [np.corrcoef(Y_val, predictions[key])[0][1] ** 2 for key in models]\n",
    " \n",
    "# create plot\n",
    "index = np.arange(n_groups)\n",
    " \n",
    "plt.bar(index, r2_list, \n",
    "        label='R2')\n",
    " \n",
    "models[1] = 'extremely\\nrandomized\\ntrees'\n",
    "plt.xlabel('Model')\n",
    "plt.ylabel('R2')\n",
    "plt.title('R2 for Regression Models')\n",
    "plt.xticks(index, models)\n",
    "\n",
    "plt.savefig('regression_r2.pdf')\n",
    "plt.show()"
   ]
  },
  {
   "cell_type": "markdown",
   "metadata": {},
   "source": [
    "## feature importances (regression)"
   ]
  },
  {
   "cell_type": "code",
   "execution_count": 71,
   "metadata": {
    "collapsed": false,
    "scrolled": true
   },
   "outputs": [
    {
     "name": "stdout",
     "output_type": "stream",
     "text": [
      "Feature ranking:\n",
      "1 & revol_bal & 0.191499 \\\\\n",
      "2 & dti & 0.139773 \\\\\n",
      "3 & annual_inc & 0.119394 \\\\\n",
      "4 & revol_util & 0.101881 \\\\\n",
      "5 & funded_amnt & 0.093779 \\\\\n",
      "6 & total_acc & 0.052802 \\\\\n",
      "7 & earliest_cr_line_year & 0.047900 \\\\\n",
      "8 & open_acc & 0.042344 \\\\\n",
      "9 & issue_month & 0.033703 \\\\\n",
      "10 & earliest_cr_line_month & 0.028161 \\\\\n",
      "11 & emp_length & 0.023943 \\\\\n",
      "12 & inq_last_6mths & 0.021485 \\\\\n",
      "13 & issue_year & 0.020568 \\\\\n",
      "14 & delinq_2yrs & 0.010197 \\\\\n",
      "15 & term & 0.008160 \\\\\n",
      "16 & purpose_debt_consolidation & 0.006502 \\\\\n",
      "17 & verification_status_Verified & 0.004917 \\\\\n",
      "18 & home_ownership_RENT & 0.004917 \\\\\n",
      "19 & purpose_credit_card & 0.004742 \\\\\n",
      "20 & verification_status_Source Verified & 0.004524 \\\\\n",
      "21 & purpose_small_business & 0.003986 \\\\\n",
      "22 & purpose_home_improvement & 0.003753 \\\\\n",
      "23 & purpose_other & 0.003462 \\\\\n",
      "24 & purpose_wedding & 0.003317 \\\\\n",
      "25 & pub_rec & 0.003171 \\\\\n",
      "26 & home_ownership_OWN & 0.002996 \\\\\n",
      "27 & purpose_major_purchase & 0.002866 \\\\\n",
      "28 & purpose_medical & 0.002386 \\\\\n",
      "29 & pub_rec_bankruptcies & 0.002066 \\\\\n",
      "30 & has_employment & 0.001964 \\\\\n",
      "31 & purpose_vacation & 0.001949 \\\\\n",
      "32 & purpose_moving & 0.001731 \\\\\n",
      "33 & purpose_house & 0.001644 \\\\\n",
      "34 & purpose_educational & 0.001251 \\\\\n",
      "35 & home_ownership_OTHER & 0.000669 \\\\\n",
      "36 & purpose_renewable_energy & 0.000611 \\\\\n",
      "37 & tax_liens & 0.000524 \\\\\n",
      "38 & home_ownership_NONE & 0.000465 \\\\\n"
     ]
    }
   ],
   "source": [
    "importances = xgb.feature_importances_\n",
    "indices = np.argsort(importances)[::-1]\n",
    "print(\"Feature ranking:\")\n",
    "\n",
    "for i in range(X.shape[1]):\n",
    "    print(\"%d & %s & %f \\\\\\\\\" % (i + 1, X.columns[indices[i]], importances[indices[i]]))"
   ]
  },
  {
   "cell_type": "markdown",
   "metadata": {
    "collapsed": true
   },
   "source": [
    "## hyperparameter tuning (regression)"
   ]
  },
  {
   "cell_type": "code",
   "execution_count": 77,
   "metadata": {
    "collapsed": false
   },
   "outputs": [
    {
     "data": {
      "image/png": "[encoded data removed]",
      "text/plain": [
       "<matplotlib.figure.Figure at 0x3532efc90>"
      ]
     },
     "metadata": {},
     "output_type": "display_data"
    }
   ],
   "source": [
    "rf_scores = []\n",
    "for n_trees in [1, 2, 5, 10, 20, 50, 100, 200, 500, 1000, 2000, 5000]:\n",
    "    rf = RandomForestRegressor(n_estimators=n_trees, n_jobs=-1)\n",
    "    rf.fit(X_train, Y_train)\n",
    "    rf_preds = rf.predict(X_val)\n",
    "    rf_scores.append(mse(Y_val, rf_preds))\n",
    "\n",
    "plt.semilogx([1, 2, 5, 10, 20, 50, 100, 200, 500, 1000, 2000, 5000],\n",
    "             rf_scores)\n",
    "plt.xlabel('Number of Trees in Random Forest (Log Scale)')\n",
    "plt.ylabel('Mean Squared Error')\n",
    "plt.title('Random Forest Regressor: Number of Trees and Accuracy')\n",
    "plt.savefig('num_trees_rfr.pdf')"
   ]
  },
  {
   "cell_type": "code",
   "execution_count": 79,
   "metadata": {
    "collapsed": false
   },
   "outputs": [
    {
     "data": {
      "image/png": "[encoded data removed]",
      "text/plain": [
       "<matplotlib.figure.Figure at 0x31e79d2d0>"
      ]
     },
     "metadata": {},
     "output_type": "display_data"
    }
   ],
   "source": [
    "xgb_scores = []\n",
    "for n_trees in [1, 2, 5, 10, 20, 50, 100, 200, 500, 1000, 2000, 5000, 10000]:\n",
    "    xgb = xgboost.XGBRegressor(n_estimators=n_trees, n_jobs=-1)\n",
    "    xgb.fit(X_train, Y_train)\n",
    "    xgb_preds = xgb.predict(X_val)\n",
    "    xgb_scores.append(mse(Y_val, xgb_preds))\n",
    "\n",
    "plt.semilogx([1, 2, 5, 10, 20, 50, 100, 200, 500, 1000, 2000, 5000, 10000],\n",
    "             xgb_scores)\n",
    "plt.xlabel('Number of Trees in XGBoost (Log Scale)')\n",
    "plt.ylabel('Mean Squared Error')\n",
    "plt.title('XGBoost Regressor: Number of Trees and Accuracy')\n",
    "plt.savefig('num_trees_xgbr.pdf')"
   ]
  },
  {
   "cell_type": "code",
   "execution_count": null,
   "metadata": {
    "collapsed": true
   },
   "outputs": [],
   "source": []
  }
 ],
 "metadata": {
  "kernelspec": {
   "display_name": "Python 2",
   "language": "python",
   "name": "python2"
  },
  "language_info": {
   "codemirror_mode": {
    "name": "ipython",
    "version": 2
   },
   "file_extension": ".py",
   "mimetype": "text/x-python",
   "name": "python",
   "nbconvert_exporter": "python",
   "pygments_lexer": "ipython2",
   "version": "2.7.13"
  }
 },
 "nbformat": 4,
 "nbformat_minor": 2
}
